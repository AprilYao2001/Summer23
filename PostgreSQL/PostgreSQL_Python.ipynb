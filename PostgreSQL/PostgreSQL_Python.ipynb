{
 "cells": [
  {
   "cell_type": "markdown",
   "id": "4f802e0e",
   "metadata": {},
   "source": [
    "# PostgreSQL with Python\n",
    "\n",
    "This is the study note written by __Siyu Yao (April)__ on 220809 - 220812.\n",
    "\n",
    "Focus on following things:\n",
    "- [Link Postgres database to python](#link-to-database)\n",
    "- Use python to do database CRUD ([create](#create-table), [read](#fetch-data-query-data), [update](#update-table), [delete](#delete-data))\n",
    "- [Join query, Group By, Order By, Aggregate Functions](#joins)\n",
    "- [Views](#views)"
   ]
  },
  {
   "cell_type": "markdown",
   "id": "21133dbd",
   "metadata": {},
   "source": [
    "## Link  To Database\n",
    "\n",
    "For note organization, following code is with out **try-except**, for full version, see below Final Full Version."
   ]
  },
  {
   "cell_type": "code",
   "execution_count": 1,
   "id": "582ebe68",
   "metadata": {},
   "outputs": [],
   "source": [
    "#import library work with PostgreSQL\n",
    "import psycopg2\n",
    "import psycopg2.extras        # used for context manager, see below"
   ]
  },
  {
   "cell_type": "code",
   "execution_count": 2,
   "id": "7c480e6f",
   "metadata": {},
   "outputs": [],
   "source": [
    "#the needed information for link db, can be found in postico login page\n",
    "\n",
    "hostname = 'localhost'\n",
    "database = 'mydb'\n",
    "username = 'i52'\n",
    "pwd = ''\n",
    "port_id = 5432"
   ]
  },
  {
   "cell_type": "code",
   "execution_count": 3,
   "id": "a9d708c2",
   "metadata": {},
   "outputs": [],
   "source": [
    "#to record connection and cursor statement, see later\n",
    "\n",
    "conn = None\n",
    "cur = None"
   ]
  },
  {
   "cell_type": "code",
   "execution_count": 4,
   "id": "c95cbcd0",
   "metadata": {},
   "outputs": [],
   "source": [
    "#link to datebase\n",
    "conn = psycopg2.connect(host = hostname,\n",
    "                        dbname = database,\n",
    "                        user = username,\n",
    "                        password = pwd,\n",
    "                        port = port_id)"
   ]
  },
  {
   "cell_type": "code",
   "execution_count": 5,
   "id": "f9f7d74c",
   "metadata": {},
   "outputs": [
    {
     "name": "stdout",
     "output_type": "stream",
     "text": [
      "Database connected.\n",
      "\n"
     ]
    }
   ],
   "source": [
    "#create a 'cursor' object for actually wotking with qeries\n",
    "\n",
    "cur = conn.cursor()     #nomal way\n",
    "#cur = conn.cursor(cursor_factory = psycopg2.extras.DictCursor)     #in dictionary from\n",
    "\n",
    "print('Database connected.\\n')"
   ]
  },
  {
   "cell_type": "markdown",
   "id": "3bac318f",
   "metadata": {},
   "source": [
    "## Drop View"
   ]
  },
  {
   "cell_type": "code",
   "execution_count": 6,
   "id": "fb55da5d",
   "metadata": {},
   "outputs": [
    {
     "name": "stdout",
     "output_type": "stream",
     "text": [
      "View dropped.\n",
      "\n"
     ]
    }
   ],
   "source": [
    "#drop before create to avoid duplicate in multi-time pratice execute\n",
    "cur.execute('DROP VIEW IF EXISTS myview')\n",
    "\n",
    "print('View dropped.\\n')"
   ]
  },
  {
   "cell_type": "markdown",
   "id": "4522d895",
   "metadata": {},
   "source": [
    "## Drop Table"
   ]
  },
  {
   "cell_type": "code",
   "execution_count": 7,
   "id": "efe69b1f",
   "metadata": {},
   "outputs": [
    {
     "name": "stdout",
     "output_type": "stream",
     "text": [
      "Table dropped.\n",
      "\n"
     ]
    }
   ],
   "source": [
    "#drop before create to avoid duplicate in multi-time pratice execute\n",
    "cur.execute('DROP TABLE IF EXISTS employee')\n",
    "cur.execute('DROP TABLE IF EXISTS department')\n",
    "cur.execute('DROP TABLE IF EXISTS manager')\n",
    "cur.execute('DROP TABLE IF EXISTS projects')\n",
    "cur.execute('DROP TABLE IF EXISTS family')\n",
    "\n",
    "print('Table dropped.\\n')"
   ]
  },
  {
   "cell_type": "markdown",
   "id": "d44af965",
   "metadata": {},
   "source": [
    "## Commit Change"
   ]
  },
  {
   "cell_type": "code",
   "execution_count": 8,
   "id": "271e070a",
   "metadata": {},
   "outputs": [],
   "source": [
    "#only after change commited, the db would change, otherwise the python script would not affect db.\n",
    "conn.commit()"
   ]
  },
  {
   "cell_type": "markdown",
   "id": "5b37812d",
   "metadata": {},
   "source": [
    "## Create Table"
   ]
  },
  {
   "cell_type": "code",
   "execution_count": 9,
   "id": "b70ff1ea",
   "metadata": {},
   "outputs": [],
   "source": [
    "#create table\n",
    "create_script = '''CREATE TABLE IF NOT EXISTS employee(     --only create if the table not created before\n",
    "                        emp_id      varchar(20) PRIMARY KEY,\n",
    "                        name        varchar(50) NOT NULL, \n",
    "                        salary      int,                    -- inside is part of SQL, comment style change\n",
    "                        dept_id     varchar(20),\n",
    "                        manager_id  varchar(20)\n",
    "                        )'''       #same syntax as in SQL\n",
    "#execute the change\n",
    "cur.execute(create_script)"
   ]
  },
  {
   "cell_type": "code",
   "execution_count": 10,
   "id": "57f4191a",
   "metadata": {},
   "outputs": [
    {
     "name": "stdout",
     "output_type": "stream",
     "text": [
      "Table created.\n",
      "\n"
     ]
    }
   ],
   "source": [
    "#create other tables for later use\n",
    "create_script = '''CREATE TABLE IF NOT EXISTS department(\n",
    "                        dept_id   varchar(20),\n",
    "                        dept_name varchar(50)\n",
    "                        )'''\n",
    "cur.execute(create_script)\n",
    "\n",
    "create_script = '''CREATE TABLE IF NOT EXISTS manager(\n",
    "                        manager_id   varchar(20),\n",
    "                        manager_name varchar(50),\n",
    "                        dept_id      varchar(20)\n",
    "                        )'''\n",
    "cur.execute(create_script)\n",
    "\n",
    "create_script = '''CREATE TABLE IF NOT EXISTS projects(\n",
    "                        project_id     varchar(20),\n",
    "                        project_name   varchar(100),\n",
    "                        team_member_id varchar(20)\n",
    "                        )'''\n",
    "cur.execute(create_script)\n",
    "\n",
    "create_script = '''CREATE TABLE IF NOT EXISTS family(\n",
    "                        member_id varchar(10),\n",
    "                        name      varchar(50),\n",
    "                        age       int,\n",
    "                        parent_id varchar(10));'''\n",
    "cur.execute(create_script)\n",
    "\n",
    "conn.commit()\n",
    "print('Table created.\\n')"
   ]
  },
  {
   "cell_type": "markdown",
   "id": "3b5b4953",
   "metadata": {},
   "source": [
    "## Insert Date Into DB"
   ]
  },
  {
   "cell_type": "code",
   "execution_count": 11,
   "id": "35ffc441",
   "metadata": {},
   "outputs": [],
   "source": [
    "#insert date into db\n",
    "insert_script = '''INSERT INTO employee (emp_id, name, salary, dept_id, manager_id)\n",
    "                    VALUES (%s, %s, %s, %s, %s)'''\n",
    "insert_values = [('E1', 'James', 8000, 'D1', 'M1'), ('E2', 'Bob', 9500, 'D1', 'M1'), \n",
    "                ('E3', 'Eva', 7000, 'D1', 'M2'), ('E4', 'Jack', 13000, 'D1', 'M2'),\n",
    "                ('E5', 'Robin', 20000,'D10', 'M3'), ('E6', 'Amy', 15000, 'D10', 'M3'),\n",
    "                ('E7', 'May', 5000, 'D3', 'M3')]\n",
    "\n",
    "\n",
    "for value in insert_values:\n",
    "        cur.execute(insert_script, value)"
   ]
  },
  {
   "cell_type": "code",
   "execution_count": 12,
   "id": "e5645768",
   "metadata": {},
   "outputs": [],
   "source": [
    "conn.commit()"
   ]
  },
  {
   "cell_type": "code",
   "execution_count": 13,
   "id": "3ac96cec",
   "metadata": {},
   "outputs": [],
   "source": [
    "insert_script = '''INSERT INTO department (dept_id, dept_name)\n",
    "                    VALUES (%s, %s)'''\n",
    "insert_values = [('D1', 'IT'), ('D2', 'HR'),\n",
    "                 ('D3', 'Finance'), ('D4', 'Admin')]\n",
    "for value in insert_values:\n",
    "        cur.execute(insert_script, value)\n",
    "\n",
    "\n",
    "insert_script = '''INSERT INTO manager(manager_id, manager_name, dept_id)\n",
    "                    VALUES(%s, %s, %s)'''\n",
    "insert_values = [('M1', 'Prem', 'D3'), ('M2', 'Shripadh', 'D4'),\n",
    "                 ('M3', 'Nick', 'D1'), ('M4', 'Cory', 'D1')]\n",
    "for value in insert_values:\n",
    "        cur.execute(insert_script, value)\n",
    "\n",
    "\n",
    "insert_script = '''INSERT INTO projects(project_id, project_name, team_member_id)\n",
    "                     VALUES(%s, %s, %s)'''\n",
    "insert_values = [('P1', 'Data Migration', 'E1'), ('P1', 'Data Migration', 'E2'),\n",
    "                 ('P1', 'Data Migration', 'M3'),\n",
    "                 ('P2', 'ETL Tool', 'E1'), ('P2', 'ETL Tool', 'M4')]\n",
    "for value in insert_values:\n",
    "        cur.execute(insert_script, value)\n",
    "        \n",
    "insert_script = '''INSERT INTO family(member_id, name, age, parent_id)\n",
    "                     VALUES(%s, %s, %s, %s)'''\n",
    "insert_values = [('F1', 'David', 4, 'F5'), ('F2', 'Carol', 10, 'F5'),\n",
    "                 ('F3', 'Michael', 12,  'F5'),('F4', 'Johnson', 36, 'NULL'), \n",
    "                 ('F5', 'Maryam', 40, 'F6'),('F6', 'Stewart', 70, 'NULL'), \n",
    "                 ('F7', 'Rohan', 6, 'F4'),('F8', 'Asha', 8, 'F4')]\n",
    "for value in insert_values:\n",
    "        cur.execute(insert_script, value)"
   ]
  },
  {
   "cell_type": "markdown",
   "id": "56b8913b",
   "metadata": {},
   "source": [
    "## Fetch Data/ Query Data"
   ]
  },
  {
   "cell_type": "code",
   "execution_count": 14,
   "id": "cba9615c",
   "metadata": {},
   "outputs": [
    {
     "name": "stdout",
     "output_type": "stream",
     "text": [
      "[('E1', 'James', 8000, 'D1', 'M1'), ('E2', 'Bob', 9500, 'D1', 'M1'), ('E3', 'Eva', 7000, 'D1', 'M2'), ('E4', 'Jack', 13000, 'D1', 'M2'), ('E5', 'Robin', 20000, 'D10', 'M3'), ('E6', 'Amy', 15000, 'D10', 'M3'), ('E7', 'May', 5000, 'D3', 'M3')]\n",
      "---------- This is print in list. ----------\n",
      "\n",
      "('E1', 'James', 8000, 'D1', 'M1')\n",
      "('E2', 'Bob', 9500, 'D1', 'M1')\n",
      "('E3', 'Eva', 7000, 'D1', 'M2')\n",
      "('E4', 'Jack', 13000, 'D1', 'M2')\n",
      "('E5', 'Robin', 20000, 'D10', 'M3')\n",
      "('E6', 'Amy', 15000, 'D10', 'M3')\n",
      "('E7', 'May', 5000, 'D3', 'M3')\n",
      "---------- This is print at a line in tuple. ----------\n",
      "\n",
      "James 8000\n",
      "Bob 9500\n",
      "Eva 7000\n",
      "Jack 13000\n",
      "Robin 20000\n",
      "Amy 15000\n",
      "May 5000\n",
      "---------- This is print only name and salary based on index. ----------\n",
      "\n"
     ]
    }
   ],
   "source": [
    "#fetch data from db\n",
    "cur.execute('SELECT * FROM employee')\n",
    "\n",
    "#if only have one record can use fetchone()\n",
    "\n",
    "print(cur.fetchall())     #print in list\n",
    "print('---------- This is print in list. ----------\\n')\n",
    "\n",
    "\n",
    "cur.execute('SELECT * FROM employee')\n",
    "for record in cur.fetchall():\n",
    "    print(record)     #one at a line in tuple\n",
    "print('---------- This is print at a line in tuple. ----------\\n')\n",
    "\n",
    "\n",
    "\n",
    "cur.execute('SELECT * FROM employee')\n",
    "for record in cur.fetchall():   \n",
    "    print(record[1], record[2])     #print only name and salary based on index\n",
    "print('---------- This is print only name and salary based on index. ----------\\n')\n",
    "    \n",
    "    \n",
    "    #print(record['name'], record['salary'])\t\t#use cursor dictionary form\n",
    "    #print('---------- This is print using cursor dictionary form. ----------\\n')\n",
    "\n",
    "\n",
    "# conn.commit()"
   ]
  },
  {
   "cell_type": "markdown",
   "id": "ce44fd04",
   "metadata": {},
   "source": [
    "## Update Table"
   ]
  },
  {
   "cell_type": "code",
   "execution_count": 15,
   "id": "919373d3",
   "metadata": {},
   "outputs": [],
   "source": [
    "#update table\n",
    "update_script = 'UPDATE employee SET salary = 1.2 * salary'\n",
    "\n",
    "cur.execute(update_script)"
   ]
  },
  {
   "cell_type": "code",
   "execution_count": 16,
   "id": "1c6dbd83",
   "metadata": {},
   "outputs": [
    {
     "name": "stdout",
     "output_type": "stream",
     "text": [
      "('E1', 'James', 9600, 'D1', 'M1')\n",
      "('E2', 'Bob', 11400, 'D1', 'M1')\n",
      "('E3', 'Eva', 8400, 'D1', 'M2')\n",
      "('E4', 'Jack', 15600, 'D1', 'M2')\n",
      "('E5', 'Robin', 24000, 'D10', 'M3')\n",
      "('E6', 'Amy', 18000, 'D10', 'M3')\n",
      "('E7', 'May', 6000, 'D3', 'M3')\n"
     ]
    }
   ],
   "source": [
    "cur.execute('SELECT * FROM employee')\n",
    "for record in cur.fetchall():\n",
    "    print(record)     #one at a line in tuple"
   ]
  },
  {
   "cell_type": "markdown",
   "id": "bec8b308",
   "metadata": {},
   "source": [
    "## Delete Data"
   ]
  },
  {
   "cell_type": "code",
   "execution_count": 17,
   "id": "095a337b",
   "metadata": {},
   "outputs": [],
   "source": [
    "delete_script = 'DELETE FROM employee WHERE name = %s'\n",
    "delete_record = ('May',)\n",
    "\n",
    "cur.execute(delete_script, delete_record)"
   ]
  },
  {
   "cell_type": "code",
   "execution_count": 18,
   "id": "55239642",
   "metadata": {},
   "outputs": [
    {
     "name": "stdout",
     "output_type": "stream",
     "text": [
      "('E1', 'James', 9600, 'D1', 'M1')\n",
      "('E2', 'Bob', 11400, 'D1', 'M1')\n",
      "('E3', 'Eva', 8400, 'D1', 'M2')\n",
      "('E4', 'Jack', 15600, 'D1', 'M2')\n",
      "('E5', 'Robin', 24000, 'D10', 'M3')\n",
      "('E6', 'Amy', 18000, 'D10', 'M3')\n"
     ]
    }
   ],
   "source": [
    "cur.execute('SELECT * FROM employee')\n",
    "for record in cur.fetchall():\n",
    "    print(record)     #one at a line in tuple"
   ]
  },
  {
   "cell_type": "code",
   "execution_count": 19,
   "id": "57cedfe4",
   "metadata": {},
   "outputs": [],
   "source": [
    "#only after change commited, the db would change, otherwise the python script would not affect db.\n",
    "conn.commit()"
   ]
  },
  {
   "cell_type": "markdown",
   "id": "39aac70b",
   "metadata": {},
   "source": [
    "## Joins\n",
    "Use joins to combine separate tables' information into one. DO NOT create new relationship but simply providing the result for query. For creating new relationship quicker for next query, see 'Views'.\n",
    "\n",
    "In following, LHS = left hand side, RHS = right hand side. The L/R based on relevent location of ___ JOIN."
   ]
  },
  {
   "cell_type": "markdown",
   "id": "97d7a60c",
   "metadata": {},
   "source": [
    "### INNER JOIN / JOIN\n",
    "Inner join only fetch the records which are present in **both side** of table under the join codition.<br>\n",
    "The two key word in SQL, INNER JOIN also write as JOIN for short since it's the most frequence use.\n",
    "\n",
    "Task: Fetch the *employee name* and the *department name* they belong to."
   ]
  },
  {
   "cell_type": "code",
   "execution_count": 20,
   "id": "261d84f8",
   "metadata": {},
   "outputs": [],
   "source": [
    "inner_script = '''SELECT e.name, d.dept_name\n",
    "                    FROM employee AS e             -- LHS table\n",
    "                    INNER JOIN department AS d     -- RHS table\n",
    "                    ON e.dept_id = d.dept_id;      -- join condition, behind 'ON'\n",
    "                    '''   \n",
    "cur.execute(inner_script)"
   ]
  },
  {
   "cell_type": "code",
   "execution_count": 21,
   "id": "37d3a36b",
   "metadata": {},
   "outputs": [
    {
     "name": "stdout",
     "output_type": "stream",
     "text": [
      "('Jack', 'IT')\n",
      "('Eva', 'IT')\n",
      "('Bob', 'IT')\n",
      "('James', 'IT')\n"
     ]
    }
   ],
   "source": [
    "for record in cur.fetchall():\n",
    "    print(record)"
   ]
  },
  {
   "cell_type": "markdown",
   "id": "9e1ca52f",
   "metadata": {},
   "source": [
    "### LEFT JOIN / LEFT OUTER JOIN\n",
    "\n",
    "**LHS** table take priority and become main table.  <br>\n",
    "Left join = inner join + any additional records in the LHS table.\n",
    "\n",
    "Task: Fetch **ALL the *employee name*** and the *department name* they belong to."
   ]
  },
  {
   "cell_type": "code",
   "execution_count": 22,
   "id": "14cf287c",
   "metadata": {},
   "outputs": [],
   "source": [
    "left_script = '''SELECT e.name, d.dept_name\n",
    "                    FROM employee AS e             -- LHS table\n",
    "                    LEFT JOIN department AS d     -- RHS table\n",
    "                    ON e.dept_id = d.dept_id;      -- join condition\n",
    "                    '''   \n",
    "cur.execute(left_script)"
   ]
  },
  {
   "cell_type": "code",
   "execution_count": 23,
   "id": "05896444",
   "metadata": {},
   "outputs": [
    {
     "name": "stdout",
     "output_type": "stream",
     "text": [
      "('Jack', 'IT')\n",
      "('Eva', 'IT')\n",
      "('Bob', 'IT')\n",
      "('James', 'IT')\n",
      "('Amy', None)\n",
      "('Robin', None)\n"
     ]
    }
   ],
   "source": [
    "for record in cur.fetchall():\n",
    "    print(record)"
   ]
  },
  {
   "cell_type": "markdown",
   "id": "20bba2aa",
   "metadata": {},
   "source": [
    "### RIGHT JOIN / RIGHT OUTER JOIN\n",
    "\n",
    "**RHS** table take priority and become main table.  <br>\n",
    "Right join = inner join + any additional records in the RHS table.\n",
    "\n",
    "Task: Fetch the *employee name* and **ALL the *department name*** they belong to."
   ]
  },
  {
   "cell_type": "code",
   "execution_count": 24,
   "id": "f2d83d5c",
   "metadata": {},
   "outputs": [],
   "source": [
    "left_script = '''SELECT e.name, d.dept_name\n",
    "                    FROM employee AS e             -- LHS table\n",
    "                    RIGHT JOIN department AS d     -- RHS table\n",
    "                    ON e.dept_id = d.dept_id;      -- join condition\n",
    "                    '''   \n",
    "cur.execute(left_script)"
   ]
  },
  {
   "cell_type": "code",
   "execution_count": 25,
   "id": "c5073373",
   "metadata": {},
   "outputs": [
    {
     "name": "stdout",
     "output_type": "stream",
     "text": [
      "('Jack', 'IT')\n",
      "('Eva', 'IT')\n",
      "('Bob', 'IT')\n",
      "('James', 'IT')\n",
      "(None, 'HR')\n",
      "(None, 'Finance')\n",
      "(None, 'Admin')\n"
     ]
    }
   ],
   "source": [
    "for record in cur.fetchall():\n",
    "    print(record)"
   ]
  },
  {
   "cell_type": "markdown",
   "id": "4c62661c",
   "metadata": {},
   "source": [
    "### FULL JOIN / FULL OUTER JOIN\n",
    "\n",
    "Full join = inner join + all remaining records from LHS + all remaining records from RHS\n",
    "\n",
    "Task: Fetch **ALL the *employee name*** and **ALL the *department name*** they belong to."
   ]
  },
  {
   "cell_type": "code",
   "execution_count": 26,
   "id": "0c41122c",
   "metadata": {},
   "outputs": [],
   "source": [
    "full_script = '''SELECT e.name, d.dept_name\n",
    "                    FROM employee AS e             -- LHS table\n",
    "                    FULL JOIN department AS d      -- RHS table\n",
    "                    ON e.dept_id = d.dept_id;      -- join condition, behind 'ON'\n",
    "                    '''   \n",
    "cur.execute(full_script)"
   ]
  },
  {
   "cell_type": "code",
   "execution_count": 27,
   "id": "139f096f",
   "metadata": {},
   "outputs": [
    {
     "name": "stdout",
     "output_type": "stream",
     "text": [
      "('Jack', 'IT')\n",
      "('Eva', 'IT')\n",
      "('Bob', 'IT')\n",
      "('James', 'IT')\n",
      "(None, 'HR')\n",
      "(None, 'Finance')\n",
      "(None, 'Admin')\n",
      "('Amy', None)\n",
      "('Robin', None)\n"
     ]
    }
   ],
   "source": [
    "for record in cur.fetchall():\n",
    "    print(record)"
   ]
  },
  {
   "cell_type": "markdown",
   "id": "2bbe70a8",
   "metadata": {},
   "source": [
    "### CROSS JOIN / CARTESIAN JOIN\n",
    "\n",
    "Returns cartesian product(every record in LHS will match every record in RHS).  \n",
    "\n",
    "Task: Fetch ALL possible match for employee name and department name."
   ]
  },
  {
   "cell_type": "code",
   "execution_count": 28,
   "id": "7af65ab2",
   "metadata": {},
   "outputs": [],
   "source": [
    "cross_script = '''SELECT e.name, d.dept_name\n",
    "                    FROM employee AS e             -- LHS table\n",
    "                    CROSS JOIN department AS d      -- RHS table\n",
    "                    -- cross join  do not need join condition\n",
    "                    '''   \n",
    "cur.execute(cross_script)"
   ]
  },
  {
   "cell_type": "code",
   "execution_count": 29,
   "id": "97fa836f",
   "metadata": {},
   "outputs": [
    {
     "name": "stdout",
     "output_type": "stream",
     "text": [
      "('James', 'IT')\n",
      "('Bob', 'IT')\n",
      "('Eva', 'IT')\n",
      "('Jack', 'IT')\n",
      "('Robin', 'IT')\n",
      "('Amy', 'IT')\n",
      "('James', 'HR')\n",
      "('Bob', 'HR')\n",
      "('Eva', 'HR')\n",
      "('Jack', 'HR')\n",
      "('Robin', 'HR')\n",
      "('Amy', 'HR')\n",
      "('James', 'Finance')\n",
      "('Bob', 'Finance')\n",
      "('Eva', 'Finance')\n",
      "('Jack', 'Finance')\n",
      "('Robin', 'Finance')\n",
      "('Amy', 'Finance')\n",
      "('James', 'Admin')\n",
      "('Bob', 'Admin')\n",
      "('Eva', 'Admin')\n",
      "('Jack', 'Admin')\n",
      "('Robin', 'Admin')\n",
      "('Amy', 'Admin')\n"
     ]
    }
   ],
   "source": [
    "for record in cur.fetchall():\n",
    "    print(record)"
   ]
  },
  {
   "cell_type": "markdown",
   "id": "b2e68def",
   "metadata": {},
   "source": [
    "### NATURAL JOIN\n",
    "\n",
    "Sometimes looks like inner join, but nutural join is decided by SQL not by user, it may become a problem. \n",
    "\n",
    "SQL go through each column's name in specified table, if table share same column name, SQL use that column to join tables together. If not find the dame column name, SQL will do the cross join.\n",
    "\n",
    "Let SQL to take control rather then yourself, highly not recommend."
   ]
  },
  {
   "cell_type": "code",
   "execution_count": 30,
   "id": "b8b704dd",
   "metadata": {},
   "outputs": [],
   "source": [
    "natural_script = '''SELECT e.name, d.dept_name\n",
    "                    FROM employee AS e             -- LHS table\n",
    "                    NATURAL JOIN department AS d      -- RHS table\n",
    "                    -- natural join  do not need join condition\n",
    "                    '''   \n",
    "cur.execute(natural_script)"
   ]
  },
  {
   "cell_type": "code",
   "execution_count": 31,
   "id": "b6c76344",
   "metadata": {},
   "outputs": [
    {
     "name": "stdout",
     "output_type": "stream",
     "text": [
      "('Jack', 'IT')\n",
      "('Eva', 'IT')\n",
      "('Bob', 'IT')\n",
      "('James', 'IT')\n"
     ]
    }
   ],
   "source": [
    "for record in cur.fetchall():\n",
    "    print(record)"
   ]
  },
  {
   "cell_type": "markdown",
   "id": "2e13bd05",
   "metadata": {},
   "source": [
    "### SELF JOIN\n",
    "\n",
    "Join the table to itself. Self join do not has its own keyword, use table twice is self join. Self join can use keyword join/ left join/ right join ... as the keyword normal affect.\n",
    "\n",
    "Task: Fetch the child name and their age corresponding to their parent name and parent age"
   ]
  },
  {
   "cell_type": "code",
   "execution_count": 32,
   "id": "4be6a1f6",
   "metadata": {},
   "outputs": [],
   "source": [
    "self_script = '''SELECT child.name AS child_name, child.age AS child_age,\n",
    "                    parent.name AS parent_name, parent.age AS parent_age \n",
    "                    FROM family AS child            -- LHS table\n",
    "                    JOIN family AS parent           -- RHS table\n",
    "                    ON child.parent_id = parent.member_id    -- join condition\n",
    "                    '''   \n",
    "cur.execute(self_script)"
   ]
  },
  {
   "cell_type": "code",
   "execution_count": 33,
   "id": "08997f4f",
   "metadata": {},
   "outputs": [],
   "source": [
    "#conn.commit()"
   ]
  },
  {
   "cell_type": "code",
   "execution_count": 34,
   "id": "cfbc4f17",
   "metadata": {},
   "outputs": [
    {
     "name": "stdout",
     "output_type": "stream",
     "text": [
      "('David', 4, 'Maryam', 40)\n",
      "('Carol', 10, 'Maryam', 40)\n",
      "('Michael', 12, 'Maryam', 40)\n",
      "('Maryam', 40, 'Stewart', 70)\n",
      "('Rohan', 6, 'Johnson', 36)\n",
      "('Asha', 8, 'Johnson', 36)\n"
     ]
    }
   ],
   "source": [
    "for record in cur.fetchall():\n",
    "    print(record)"
   ]
  },
  {
   "cell_type": "markdown",
   "id": "823bb925",
   "metadata": {},
   "source": [
    "## VIEWS\n",
    "\n",
    "Main purpose of using vies:\n",
    "- To simplfiy complex SQL queries. \n",
    "    - When you need to get information from many tables at once, write query everytime become time-consuming. \n",
    "- Security.\n",
    "    - Or you want to share people only know the basic information not the top secret. \n",
    "\n",
    "You can create view to represent this relationship. View is a database object, created over an SQL query, does NOT store any data, more like a virtual table.\n",
    "\n",
    "Task: Fetch details of ALL emp name, their manager, their department and the projects they working on."
   ]
  },
  {
   "cell_type": "code",
   "execution_count": 35,
   "id": "73b66905",
   "metadata": {},
   "outputs": [],
   "source": [
    "multi_script = '''SELECT e.name, d.dept_name, m.manager_name, p.project_name\n",
    "                    FROM employee AS e\n",
    "                    LEFT JOIN department AS d ON e.dept_id = d.dept_id\n",
    "                    INNER JOIN manager AS m ON m.manager_id = e.manager_id\n",
    "                    LEFT JOIN projects AS p ON p.team_member_id = e.emp_id;\n",
    "                ''' # the order of the join is like ((e LEFT JOIN d) INNER JOIN m) LEFT JOIN p\n",
    "cur.execute(multi_script)"
   ]
  },
  {
   "cell_type": "code",
   "execution_count": 36,
   "id": "b0f44d5c",
   "metadata": {},
   "outputs": [
    {
     "name": "stdout",
     "output_type": "stream",
     "text": [
      "('James', 'IT', 'Prem', 'ETL Tool')\n",
      "('Bob', 'IT', 'Prem', 'Data Migration')\n",
      "('James', 'IT', 'Prem', 'Data Migration')\n",
      "('Eva', 'IT', 'Shripadh', None)\n",
      "('Jack', 'IT', 'Shripadh', None)\n",
      "('Amy', None, 'Nick', None)\n",
      "('Robin', None, 'Nick', None)\n"
     ]
    }
   ],
   "source": [
    "for record in cur.fetchall():\n",
    "    print(record)"
   ]
  },
  {
   "cell_type": "markdown",
   "id": "f05af4cc",
   "metadata": {},
   "source": [
    "### Create View"
   ]
  },
  {
   "cell_type": "code",
   "execution_count": 37,
   "id": "f04c01f3",
   "metadata": {},
   "outputs": [],
   "source": [
    "view_script = '''CREATE VIEW all_in_one AS\n",
    "                    SELECT e.name, d.dept_name, m.manager_name, p.project_name\n",
    "                    FROM employee AS e\n",
    "                    LEFT JOIN department AS d ON e.dept_id = d.dept_id\n",
    "                    INNER JOIN manager AS m ON m.manager_id = e.manager_id\n",
    "                    LEFT JOIN projects AS p ON p.team_member_id = e.emp_id;\n",
    "                ''' # the order of the join is like ((e LEFT JOIN d) INNER JOIN m) LEFT JOIN p\n",
    "cur.execute(view_script)"
   ]
  },
  {
   "cell_type": "code",
   "execution_count": 38,
   "id": "1bc416e8",
   "metadata": {},
   "outputs": [
    {
     "name": "stdout",
     "output_type": "stream",
     "text": [
      "('James', 'IT', 'Prem', 'ETL Tool')\n",
      "('Bob', 'IT', 'Prem', 'Data Migration')\n",
      "('James', 'IT', 'Prem', 'Data Migration')\n",
      "('Eva', 'IT', 'Shripadh', None)\n",
      "('Jack', 'IT', 'Shripadh', None)\n",
      "('Amy', None, 'Nick', None)\n",
      "('Robin', None, 'Nick', None)\n"
     ]
    }
   ],
   "source": [
    "cur.execute('SELECT * FROM all_in_one')\n",
    "\n",
    "for record in cur.fetchall():\n",
    "    print(record)"
   ]
  },
  {
   "cell_type": "markdown",
   "id": "9496be1b",
   "metadata": {},
   "source": [
    "### CREATE OR REPLACE \n",
    "\n",
    "Using CREATE OR REPLACE keyword, SQL will check if the view is already create, if no then create one, if created, replace the old one with the new.\n",
    "\n",
    "Rules when using  CREATE OR REPLACE:\n",
    "- CANNOT change the column name.\n",
    "- CANNOT change the column data type.\n",
    "- CANNOT change th order of the column. (but can add new column at the end)"
   ]
  },
  {
   "cell_type": "code",
   "execution_count": 39,
   "id": "59a3d423",
   "metadata": {},
   "outputs": [],
   "source": [
    "cor_script = '''CREATE OR REPLACE VIEW all_in_one AS\n",
    "                    SELECT e.name, d.dept_name, m.manager_name, p.project_name, p.project_id\n",
    "                    FROM employee AS e\n",
    "                    LEFT JOIN department AS d ON e.dept_id = d.dept_id\n",
    "                    INNER JOIN manager AS m ON m.manager_id = e.manager_id\n",
    "                    LEFT JOIN projects AS p ON p.team_member_id = e.emp_id;\n",
    "                ''' # the order of the join is like ((e LEFT JOIN d) INNER JOIN m) LEFT JOIN p\n",
    "cur.execute(cor_script)"
   ]
  },
  {
   "cell_type": "code",
   "execution_count": 40,
   "id": "f2779ab1",
   "metadata": {},
   "outputs": [
    {
     "name": "stdout",
     "output_type": "stream",
     "text": [
      "('James', 'IT', 'Prem', 'ETL Tool', 'P2')\n",
      "('Bob', 'IT', 'Prem', 'Data Migration', 'P1')\n",
      "('James', 'IT', 'Prem', 'Data Migration', 'P1')\n",
      "('Eva', 'IT', 'Shripadh', None, None)\n",
      "('Jack', 'IT', 'Shripadh', None, None)\n",
      "('Amy', None, 'Nick', None, None)\n",
      "('Robin', None, 'Nick', None, None)\n"
     ]
    }
   ],
   "source": [
    "cur.execute('SELECT * FROM all_in_one')\n",
    "\n",
    "for record in cur.fetchall():\n",
    "    print(record)"
   ]
  },
  {
   "cell_type": "markdown",
   "id": "35c2be02",
   "metadata": {},
   "source": [
    "### Modifiyng a View\n",
    "- Change the column \n",
    "- Rename the view\n",
    "- Drop the view\n",
    "- Refresh the view\n",
    "    - Insert new data in table will auto added in view.\n",
    "    - Data strcture (added new column in table)would NOT auto refresh  -> use CREATE OR REPLACE to refresh the view"
   ]
  },
  {
   "cell_type": "code",
   "execution_count": 41,
   "id": "64eed901",
   "metadata": {
    "scrolled": true
   },
   "outputs": [],
   "source": [
    "# change the column name\n",
    "# same as change the column name in table\n",
    "# only affect view, not affect original table\n",
    "cur.execute('ALTER VIEW all_in_one RENAME COLUMN name TO employee_name')\n",
    "\n",
    "\n",
    "# rename the view\n",
    "cur.execute('ALTER VIEW all_in_one RENAME TO all_in_one_v2')\n",
    "\n",
    "# drop the view\n",
    "cur.execute('DROP VIEW all_in_one_v2')"
   ]
  },
  {
   "cell_type": "markdown",
   "id": "f30a2f2d",
   "metadata": {},
   "source": [
    "### Updateble Views\n",
    "\n",
    "Views which can be UPDATE/ INSERTED/ DELETED\n",
    "\n",
    "Rules:\n",
    "- View should be created using 1 table/ view only\n",
    "    - When update view, the original table will also be updated (since view was created from the table)\n",
    "- View query cannot have DISTINCT clause\n",
    "- View query connot have GROUP BY clause\n",
    "- View query connot have WITH clause\n",
    "- View query connot have window functions"
   ]
  },
  {
   "cell_type": "markdown",
   "id": "62749849",
   "metadata": {},
   "source": [
    "### WITH CHECK OPTION\n",
    "\n",
    "Once view is created, if want to insert into the view, SQL will check if the insert data is satisfying the WHERE condition. If not satisfying will throw an error."
   ]
  },
  {
   "cell_type": "code",
   "execution_count": 42,
   "id": "593e8f15",
   "metadata": {
    "scrolled": false
   },
   "outputs": [
    {
     "name": "stdout",
     "output_type": "stream",
     "text": [
      "('E5', 'Robin', 24000, 'D10', 'M3')\n",
      "('E6', 'Amy', 18000, 'D10', 'M3')\n"
     ]
    }
   ],
   "source": [
    "check_script = ''' CREATE OR REPLACE VIEW myview AS\n",
    "                    SELECT * FROM employee WHERE dept_id = 'D10'\n",
    "                    WITH CHECK OPTION;\n",
    "               '''\n",
    "\n",
    "cur.execute(check_script)\n",
    "\n",
    "\n",
    "cur.execute('SELECT * FROM myview')\n",
    "for record in cur.fetchall():\n",
    "    print(record)\n",
    "\n",
    "#cur.execute('INSERT INTO myview (emp_id, name, salary, dept_id, manager_id) VALUES ('E8', 'Padma', 10000, 'D10', 'M2');')"
   ]
  },
  {
   "cell_type": "code",
   "execution_count": 43,
   "id": "2853228b",
   "metadata": {},
   "outputs": [],
   "source": [
    "conn.commit()"
   ]
  },
  {
   "cell_type": "markdown",
   "id": "eb525ead",
   "metadata": {},
   "source": [
    "## Disconnect Database"
   ]
  },
  {
   "cell_type": "code",
   "execution_count": 44,
   "id": "a0b9c8b6",
   "metadata": {},
   "outputs": [
    {
     "name": "stdout",
     "output_type": "stream",
     "text": [
      "Conncetion closed!\n"
     ]
    }
   ],
   "source": [
    "#colse the conncetion if conncet success\n",
    "if cur is not None:\n",
    "    cur.close()\n",
    "if conn != None:\n",
    "    conn.close()\n",
    "print(\"Conncetion closed!\")"
   ]
  },
  {
   "cell_type": "markdown",
   "id": "3f92961b",
   "metadata": {},
   "source": [
    "## Final Full Version\n",
    "\n",
    "Connect and disconnect to DB, CRUD, with context manager and try except."
   ]
  },
  {
   "cell_type": "code",
   "execution_count": 45,
   "id": "412d91fe",
   "metadata": {},
   "outputs": [
    {
     "name": "stdout",
     "output_type": "stream",
     "text": [
      "James 9600\n",
      "Bob 11400\n",
      "Eva 8400\n",
      "Robin 24000\n",
      "Amy 18000\n",
      "May 6000\n"
     ]
    }
   ],
   "source": [
    "import psycopg2\n",
    "import psycopg2.extras\n",
    "\n",
    "hostname = 'localhost'\n",
    "database = 'mydb'\n",
    "username = 'i52'\n",
    "pwd = ''\n",
    "port_id = 5432\n",
    "\n",
    "conn = None\n",
    "cur = None\n",
    "\n",
    "\n",
    "try:\n",
    "    with psycopg2.connect(host = hostname,\n",
    "                        dbname = database,\n",
    "                        user = username,\n",
    "                        password = pwd,\n",
    "                        port = port_id) as conn:\n",
    "\n",
    "        with conn.cursor(cursor_factory = psycopg2.extras.DictCursor) as cur:\n",
    "            #drop before create to avoid duplicate in multi-time pratice execute\n",
    "            cur.execute('DROP VIEW IF EXISTS myview')\n",
    "            cur.execute('DROP TABLE IF EXISTS employee')\n",
    "\n",
    "\n",
    "            #create table\n",
    "            create_script = '''CREATE TABLE IF NOT EXISTS employee(     --only create if the table not created before\n",
    "                        emp_id      varchar(20) PRIMARY KEY,\n",
    "                        name        varchar(50) NOT NULL, \n",
    "                        salary      int,                    -- inside is part of SQL, comment style change\n",
    "                        dept_id     varchar(20),\n",
    "                        manager_id  varchar(20)\n",
    "                        )'''       #same syntax as in SQL\n",
    "            #execute the change\n",
    "            cur.execute(create_script)\n",
    "\n",
    "\n",
    "            #insert date into db\n",
    "            insert_script = '''INSERT INTO employee (emp_id, name, salary, dept_id, manager_id)\n",
    "                    VALUES (%s, %s, %s, %s, %s)'''\n",
    "            insert_values = [('E1', 'James', 8000, 'D1', 'M1'), ('E2', 'Bob', 9500, 'D1', 'M1'), \n",
    "                            ('E3', 'Eva', 7000, 'D1', 'M2'), ('E4', 'Jack', 13000, 'D1', 'M2'),\n",
    "                            ('E5', 'Robin', 20000,'D10', 'M3'), ('E6', 'Amy', 15000, 'D10', 'M3'),\n",
    "                            ('E7', 'May', 5000, 'D3', 'M3')]\n",
    "            for value in insert_values:\n",
    "                    cur.execute(insert_script, value)\n",
    "\n",
    "\n",
    "            #update table\n",
    "            update_script = 'UPDATE employee SET salary = 1.2 * salary'\n",
    "            cur.execute(update_script)\n",
    "\n",
    "            #delete data\n",
    "            delete_script = 'DELETE FROM employee WHERE name = %s'\n",
    "            delete_record = ('Jack',)\n",
    "            cur.execute(delete_script, delete_record)\n",
    "\n",
    "\n",
    "            #fetch data from db\n",
    "            cur.execute('SELECT * FROM employee')\n",
    "            for record in cur.fetchall():\n",
    "                print(record['name'], record['salary'])     #use cursor dictionary form\n",
    "\n",
    "            #no conn.commit() becaue manager will take care     \n",
    "\n",
    "except Exception as e:\n",
    "    print('Something wrong with connect to DB')\n",
    "    print(e)\n",
    "finally:\n",
    "    #manager will take care of closing cursor\n",
    "    if conn != None:\n",
    "        conn.close()    #still need to close db manually\n",
    "\n",
    "\n"
   ]
  }
 ],
 "metadata": {
  "kernelspec": {
   "display_name": "Python 3.9.13 64-bit",
   "language": "python",
   "name": "python3"
  },
  "language_info": {
   "codemirror_mode": {
    "name": "ipython",
    "version": 3
   },
   "file_extension": ".py",
   "mimetype": "text/x-python",
   "name": "python",
   "nbconvert_exporter": "python",
   "pygments_lexer": "ipython3",
   "version": "3.9.13"
  },
  "vscode": {
   "interpreter": {
    "hash": "aee8b7b246df8f9039afb4144a1f6fd8d2ca17a180786b69acc140d282b71a49"
   }
  }
 },
 "nbformat": 4,
 "nbformat_minor": 5
}
