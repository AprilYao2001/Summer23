{
 "cells": [
  {
   "cell_type": "markdown",
   "id": "4f802e0e",
   "metadata": {},
   "source": [
    "# PostgreSQL with Python Advanced\n",
    "\n",
    "This is the study note written by __Siyu Yao (April)__ on 220815 - 220820.\n",
    "\n",
    "Focus on following things:\n",
    "- WITH clause, CTE (common table expression)\n",
    "- Recursion clause\n",
    "- Case clause\n",
    "- Tree\n",
    "    - `parent_id` column vs. `ltree` module\n",
    "- Link PostgreSQL with python ORM and Pandas.\n",
    "    - Peewee: warp sql statement with class, more secure and so on\n",
    "    - SQLAlchemy: same as Peewee\n",
    "    - Pandas: useful when need data visualization"
   ]
  },
  {
   "cell_type": "markdown",
   "id": "640bc1a0",
   "metadata": {},
   "source": [
    "## Set UP\n",
    "\n",
    "Link the pgdb use psycopg2 and create the table needed in this note."
   ]
  },
  {
   "cell_type": "code",
   "execution_count": 1,
   "id": "a0204a55",
   "metadata": {
    "vscode": {
     "languageId": "html"
    }
   },
   "outputs": [
    {
     "data": {
      "text/html": [
       "<style>\n",
       "  table {margin-left: 0 !important;}\n",
       "</style>\n"
      ],
      "text/plain": [
       "<IPython.core.display.HTML object>"
      ]
     },
     "metadata": {},
     "output_type": "display_data"
    }
   ],
   "source": [
    "%%html\n",
    "<style>\n",
    "  table {margin-left: 0 !important;}\n",
    "</style>"
   ]
  },
  {
   "cell_type": "code",
   "execution_count": 2,
   "id": "2d26422b",
   "metadata": {},
   "outputs": [
    {
     "name": "stdout",
     "output_type": "stream",
     "text": [
      "Database connected.\n",
      "\n"
     ]
    }
   ],
   "source": [
    "#import library work with PostgreSQL\n",
    "import psycopg2\n",
    "import psycopg2.extras        # used for context manager, see below\n",
    "\n",
    "#the needed information for link db, can be found in postico login page\n",
    "\n",
    "hostname = 'localhost'\n",
    "database = 'mydb'\n",
    "username = 'i52'\n",
    "pwd = ''\n",
    "port_id = 5432\n",
    "\n",
    "#to record connection and cursor statement, see later\n",
    "\n",
    "conn = None\n",
    "cur = None\n",
    "\n",
    "#link to database\n",
    "conn = psycopg2.connect(host = hostname,\n",
    "                        dbname = database,\n",
    "                        user = username,\n",
    "                        password = pwd,\n",
    "                        port = port_id)\n",
    "\n",
    "#create a 'cursor' object for actually working with queries\n",
    "\n",
    "cur = conn.cursor()     #normal way\n",
    "#cur = conn.cursor(cursor_factory = psycopg2.extras.DictCursor)     #in dictionary from\n",
    "\n",
    "print('Database connected.\\n')"
   ]
  },
  {
   "cell_type": "code",
   "execution_count": 3,
   "id": "495698f7",
   "metadata": {},
   "outputs": [
    {
     "name": "stdout",
     "output_type": "stream",
     "text": [
      "------- Table employee -------\n",
      "('E1', 'James', 'M', 8000, 'D1', 'M1')\n",
      "('E2', 'Bob', 'M', 9500, 'D1', 'M1')\n",
      "('E3', 'Eva', 'F', 7000, 'D1', 'M2')\n",
      "('E4', 'Jack', 'M', 13000, 'D1', 'M2')\n",
      "('E5', 'Robin', 'M', 20000, 'D10', 'M3')\n",
      "('E6', 'Amy', 'F', 15000, 'D10', 'M3')\n",
      "('E7', 'May', 'F', 5000, 'D3', 'M3')\n",
      "\n",
      "------- Table family -------\n",
      "('F1', 'David', 4, 'F5')\n",
      "('F2', 'Carol', 10, 'F5')\n",
      "('F3', 'Michael', 12, 'F5')\n",
      "('F4', 'Johnson', 36, None)\n",
      "('F5', 'Maryam', 40, 'F6')\n",
      "('F6', 'Stewart', 70, None)\n",
      "('F7', 'Rohan', 6, 'F4')\n",
      "('F8', 'Asha', 8, 'F4')\n"
     ]
    }
   ],
   "source": [
    "#drop before create to avoid duplicate in multi-time practice execute\n",
    "# cur.execute('DROP VIEW IF EXISTS myview')\n",
    "\n",
    "# print('View dropped.\\n')\n",
    "\n",
    "#drop before create to avoid duplicate in multi-time practice execute\n",
    "cur.execute('DROP TABLE IF EXISTS employee')\n",
    "# cur.execute('DROP TABLE IF EXISTS department')\n",
    "# cur.execute('DROP TABLE IF EXISTS manager')\n",
    "# cur.execute('DROP TABLE IF EXISTS projects')\n",
    "cur.execute('DROP TABLE IF EXISTS family')\n",
    "cur.execute('DROP TYPE IF EXISTS sexes;')\n",
    "\n",
    "\n",
    "\n",
    "#create table\n",
    "cur.execute('''CREATE TYPE sexes AS ENUM ('F', 'M')''')\n",
    "create_script = '''CREATE TABLE IF NOT EXISTS employee(     --only create if the table not created before\n",
    "                        emp_id      varchar(20) PRIMARY KEY,\n",
    "                        name        varchar(50) NOT NULL,\n",
    "                        sex         sexes,\n",
    "                        salary      int,                    -- inside is part of SQL, comment style change\n",
    "                        dept_id     varchar(20),\n",
    "                        manager_id  varchar(20)\n",
    "                        )'''       #same syntax as in SQL\n",
    "#execute the change\n",
    "cur.execute(create_script)\n",
    "\n",
    "create_script = '''CREATE TABLE IF NOT EXISTS family(\n",
    "                        member_id varchar(10),\n",
    "                        name      varchar(50),\n",
    "                        age       int,\n",
    "                        parent_id varchar(10));'''\n",
    "cur.execute(create_script)\n",
    "\n",
    "\n",
    "#insert date into db\n",
    "insert_script = '''INSERT INTO employee (emp_id, name, sex, salary, dept_id, manager_id)\n",
    "                    VALUES (%s, %s, %s, %s, %s, %s)'''\n",
    "insert_values = [('E1', 'James', 'M', 8000, 'D1', 'M1'), ('E2', 'Bob', 'M', 9500, 'D1', 'M1'), \n",
    "                ('E3', 'Eva', 'F', 7000, 'D1', 'M2'), ('E4', 'Jack', 'M', 13000, 'D1', 'M2'),\n",
    "                ('E5', 'Robin', 'M', 20000,'D10', 'M3'), ('E6', 'Amy', 'F', 15000, 'D10', 'M3'),\n",
    "                ('E7', 'May', 'F', 5000, 'D3', 'M3')]\n",
    "\n",
    "\n",
    "for value in insert_values:\n",
    "        cur.execute(insert_script, value)\n",
    "\n",
    "        \n",
    "insert_script = '''INSERT INTO family(member_id, name, age, parent_id)\n",
    "                     VALUES(%s, %s, %s, %s)'''\n",
    "insert_values = [('F1', 'David', 4, 'F5'), ('F2', 'Carol', 10, 'F5'),\n",
    "                 ('F3', 'Michael', 12,  'F5'),('F4', 'Johnson', 36, None), \n",
    "                 ('F5', 'Maryam', 40, 'F6'),('F6', 'Stewart', 70, None), \n",
    "                 ('F7', 'Rohan', 6, 'F4'),('F8', 'Asha', 8, 'F4')]\n",
    "for value in insert_values:\n",
    "        cur.execute(insert_script, value)\n",
    "        \n",
    "\n",
    "cur.execute('SELECT * FROM employee')\n",
    "print('------- Table employee -------')\n",
    "for record in cur.fetchall():\n",
    "    print(record)     #one at a line in tuple        \n",
    "\n",
    "cur.execute('SELECT * FROM family')\n",
    "print('\\n------- Table family -------')\n",
    "for record in cur.fetchall():\n",
    "    print(record)\n",
    "    \n",
    "conn.commit()"
   ]
  },
  {
   "cell_type": "markdown",
   "id": "21133dbd",
   "metadata": {},
   "source": [
    "## WITH & CTE/ Sub-Query Factoring\n",
    "\n",
    "A WITH clause can also be referred to as CTE(stands for common table expression) also referred to as Sub-Query Factoring. They basically mean the same.\n",
    "\n",
    "SQL query not only start with SELECT clause, can also start with WITH clause. WITH clause has to before main SELECT statement.\n",
    "\n",
    "SQL syntax:<br>\n",
    "`WITH alias/function_name (list of columns that will be returned) as <br>\n",
    "    (query/function_body)<br>\n",
    "main SELECT statement`\n",
    "\n",
    "\n",
    "\n",
    "Task: Fetch employees who earn more than average salary of all employees."
   ]
  },
  {
   "cell_type": "code",
   "execution_count": 4,
   "id": "dd81a0d1",
   "metadata": {
    "scrolled": true
   },
   "outputs": [
    {
     "name": "stdout",
     "output_type": "stream",
     "text": [
      "('E4', 'Jack', 'M', 13000, 'D1', 'M2', 11071)\n",
      "('E5', 'Robin', 'M', 20000, 'D10', 'M3', 11071)\n",
      "('E6', 'Amy', 'F', 15000, 'D10', 'M3', 11071)\n"
     ]
    }
   ],
   "source": [
    "with_script = ''' WITH average_salary (avg_sal) AS\n",
    "                            (SELECT CAST(AVG(salary) AS int) FROM employee)      -- like a temporary table named average_salary which has one column named avg_sal, but SQL do not actually store data or create table\n",
    "                    SELECT * FROM employee e, average_salary av                  -- main statement\n",
    "                    WHERE e.salary > av.avg_sal;\n",
    "                    '''     \n",
    "\n",
    "cur.execute(with_script)\n",
    "\n",
    "for record in cur.fetchall():\n",
    "    print(record) "
   ]
  },
  {
   "cell_type": "markdown",
   "id": "0859f789",
   "metadata": {},
   "source": [
    "## Recursion\n",
    "\n",
    "SQL syntax:<br>\n",
    "`WITH RECURSIVE CTE_name AS\n",
    "    (\n",
    "    SELECT query (Non Recursive query or Base query)   -- base case\n",
    "    UNION [ALL]\n",
    "    SELECT query (RECURSIVE query using CTE_name [with a termination condition])    -- recursive\n",
    "    )\n",
    " SELECT * FROM CTE_name;`\n",
    "    \n",
    "\n",
    "How recursive query works: first execute base case, then keep execute recursive step until termination condition is FALSE. Just like what recursive should work in other language.\n",
    "\n",
    "Tasks:\n",
    "1. Display successive numbers.\n",
    "    - Display number from 1 to 10 without using any in build functions.\n",
    "2. Get all child nodes from a parent node.\n",
    "    - Find the family relationship/ hierarchy of children under a given parent \"Stewart\".\n",
    "3. Get all parent nodes from a child node.\n",
    "    - Find the the family relationship/ hierarchy of parents for a given child \"David\"."
   ]
  },
  {
   "cell_type": "code",
   "execution_count": 5,
   "id": "003d7d87",
   "metadata": {
    "scrolled": true
   },
   "outputs": [
    {
     "name": "stdout",
     "output_type": "stream",
     "text": [
      "[(1,), (2,), (3,), (4,), (5,), (6,), (7,), (8,), (9,), (10,)]\n"
     ]
    }
   ],
   "source": [
    "# task1\n",
    "task1_script = ''' WITH RECURSIVE numbers AS\n",
    "                    (\n",
    "                    SELECT 1 AS n                        -- base case\n",
    "                    UNION ALL\n",
    "                    SELECT n+1 FROM numbers WHERE n<10   -- recursive\n",
    "                    )\n",
    "                    SELECT * FROM numbers;\n",
    "               '''     \n",
    "\n",
    "cur.execute(task1_script)\n",
    "print(cur.fetchall()) "
   ]
  },
  {
   "cell_type": "code",
   "execution_count": 6,
   "id": "b8eafcbe",
   "metadata": {},
   "outputs": [
    {
     "name": "stdout",
     "output_type": "stream",
     "text": [
      "('F6', 'Stewart', None, 1)\n",
      "('F5', 'Maryam', 'Stewart', 2)\n",
      "('F3', 'Michael', 'Maryam', 3)\n",
      "('F2', 'Carol', 'Maryam', 3)\n",
      "('F1', 'David', 'Maryam', 3)\n"
     ]
    }
   ],
   "source": [
    "# task2\n",
    "task2_script = ''' WITH RECURSIVE family_relationship AS\n",
    "                    (\n",
    "                    SELECT f.member_id, f.name, f.parent_id, 1 AS level FROM family f WHERE name = 'Stewart'    -- base case\n",
    "                    UNION\n",
    "                    SELECT f.member_id, f.name, f.parent_id, fr.level+1 AS level \n",
    "                        FROM family_relationship fr JOIN family f ON fr.member_id = f.parent_id   -- recursive\n",
    "                    )\n",
    "                    SELECT fr.member_id, fr.name, f.name AS parent_name, fr.level\n",
    "                        FROM family_relationship fr LEFT JOIN family f ON f.member_id = fr.parent_id\n",
    "                        ORDER BY fr.level;\n",
    "                '''\n",
    "cur.execute(task2_script)\n",
    "\n",
    "for record in cur.fetchall():\n",
    "    print(record) "
   ]
  },
  {
   "cell_type": "code",
   "execution_count": 7,
   "id": "bb2379b7",
   "metadata": {},
   "outputs": [
    {
     "name": "stdout",
     "output_type": "stream",
     "text": [
      "------ Use LEFT JOIN in main statement ------\n",
      "('F1', 'David', 'F5', 'Maryam', 1)\n",
      "('F5', 'Maryam', 'F6', 'Stewart', 2)\n",
      "('F6', 'Stewart', None, None, 3)\n",
      "\n",
      "------ Use self JOIN from base case ------\n",
      "('F1', 'David', 'F5', 'Maryam', 1)\n",
      "('F5', 'Maryam', 'F6', 'Stewart', 2)\n",
      "('F6', 'Stewart', None, None, 3)\n"
     ]
    }
   ],
   "source": [
    "# task3\n",
    "task3_script1 = ''' WITH RECURSIVE family_relationship2 AS\n",
    "                    (\n",
    "                    SELECT member_id, name, parent_id, 1 AS level FROM family WHERE name = 'David'\n",
    "                    UNION ALL\n",
    "                    SELECT f.member_id, f.name, f.parent_id, fr2.level+1 AS level\n",
    "                        FROM family_relationship2 fr2 JOIN family f ON fr2.parent_id = f.member_id \n",
    "                    )\n",
    "                    SELECT fr2.member_id, fr2.name, fr2.parent_id, f.name, level\n",
    "                    FROM family_relationship2 fr2 LEFT JOIN family f ON fr2.parent_id = f.member_id ;\n",
    "                '''\n",
    "# can use LEFT JOIN in main statement as task2 did\n",
    "cur.execute(task3_script1)\n",
    "\n",
    "print('------ Use LEFT JOIN in main statement ------')\n",
    "for record in cur.fetchall():\n",
    "    print(record)\n",
    "\n",
    "task3_script2 = ''' WITH RECURSIVE family_relationship2 AS\n",
    "                    (\n",
    "                    SELECT child.member_id, child.name, child.parent_id, parent.name AS parent_name, 1 AS level\n",
    "                        FROM family child JOIN family parent ON child.parent_id = parent.member_id AND child.name = 'David'\n",
    "                    UNION ALL\n",
    "                    SELECT f.member_id, f.name, f.parent_id, parent.name, fr2.level+1 AS level\n",
    "                        FROM family_relationship2 fr2 JOIN family f ON fr2.parent_id = f.member_id \n",
    "                        LEFT JOIN family parent ON f.parent_id = parent.member_id\n",
    "                    )\n",
    "\n",
    "                    SELECT *\n",
    "                    FROM family_relationship2;\n",
    "                '''\n",
    "#also can use SELF JOIN from base case\n",
    "cur.execute(task3_script2)\n",
    "\n",
    "print('\\n------ Use self JOIN from base case ------')\n",
    "for record in cur.fetchall():\n",
    "    print(record) "
   ]
  },
  {
   "cell_type": "markdown",
   "id": "f4eda5e3",
   "metadata": {},
   "source": [
    "## CASE\n",
    "\n",
    "The SQL CASE expression is a generic conditional expression, similar to if/else statements in other programming languages:<br>\n",
    "`CASE WHEN condition THEN result\n",
    "     [WHEN ...]\n",
    "     [ELSE result]\n",
    "END`\n",
    "\n",
    "Tasks:\n",
    "1. Calculate the bonus for each employee. If an employee's salary is not a multiple of 400 and his name does not begin with a 'B', then his bonus is 50% of his salary, otherwise his bonus is 10%. Ordered by emp_id.\n",
    "2. Use only one UPDATE statement and no SELECT statement, no intermediate temporary table to swap employees' sex (i.e. all 'F' to 'M' and all 'M' to 'F')."
   ]
  },
  {
   "cell_type": "code",
   "execution_count": 8,
   "id": "ffd90e52",
   "metadata": {},
   "outputs": [
    {
     "name": "stdout",
     "output_type": "stream",
     "text": [
      "('E1', 'James', 8000, 800)\n",
      "('E2', 'Bob', 9500, 950)\n",
      "('E3', 'Eva', 7000, 3500)\n",
      "('E4', 'Jack', 13000, 6500)\n",
      "('E5', 'Robin', 20000, 2000)\n",
      "('E6', 'Amy', 15000, 7500)\n",
      "('E7', 'May', 5000, 2500)\n"
     ]
    }
   ],
   "source": [
    "case1_script = '''SELECT emp_id, name, salary, \n",
    "                    CASE WHEN (salary%400!=0 AND LEFT(name, 1) != 'B' )THEN CAST(salary*0.5 AS int)\n",
    "                        ELSE CAST(salary*0.1 AS int)\n",
    "                    END AS bonus\n",
    "                FROM employee\n",
    "                ORDER BY emp_id;\n",
    "                '''\n",
    "cur.execute(case1_script)\n",
    "\n",
    "for record in cur.fetchall():\n",
    "    print(record) "
   ]
  },
  {
   "cell_type": "code",
   "execution_count": 9,
   "id": "fa6293ff",
   "metadata": {},
   "outputs": [
    {
     "name": "stdout",
     "output_type": "stream",
     "text": [
      "\n",
      "------ Before update ------\n",
      "('James', 'M')\n",
      "('Bob', 'M')\n",
      "('Eva', 'F')\n",
      "('Jack', 'M')\n",
      "('Robin', 'M')\n",
      "('Amy', 'F')\n",
      "('May', 'F')\n",
      "\n",
      "------ After update ------\n",
      "('James', 'F')\n",
      "('Bob', 'F')\n",
      "('Eva', 'M')\n",
      "('Jack', 'F')\n",
      "('Robin', 'F')\n",
      "('Amy', 'M')\n",
      "('May', 'M')\n"
     ]
    }
   ],
   "source": [
    "print('\\n------ Before update ------')\n",
    "cur.execute('SELECT name, sex FROM employee')\n",
    "for record in cur.fetchall():\n",
    "    print(record) \n",
    "\n",
    "\n",
    "case2_script = '''UPDATE employee SET sex = \n",
    "                    (CASE sex WHEN 'F' THEN 'M'::sexes ELSE CAST('F' AS sexes) END);\n",
    "                '''\n",
    "# if not add ::sexes/ CAST then wil get ERROR:  column \"sex\" is of type sexes but expression is of type text\n",
    "cur.execute(case2_script)\n",
    "\n",
    "\n",
    "print('\\n------ After update ------')\n",
    "cur.execute('SELECT name, sex FROM employee')\n",
    "for record in cur.fetchall():\n",
    "    print(record) "
   ]
  },
  {
   "cell_type": "markdown",
   "id": "7ef5de86",
   "metadata": {},
   "source": [
    "## Tree\n",
    "\n",
    "The most common and obvious way is to have some kind of `parent_id` column on table that references itself. For query this type of tree, see 'Recursion' task 2 and 3.<br>\n",
    "Also can use [`ltree`](https://www.postgresql.org/docs/current/ltree.html) module `CREATE EXTENSION ltree;` to create labels of data stored in a hierarchical tree-like structure. A *label path* is a sequence of zero or more labels separated by dots, for example L1.L2.L3, representing a path **from the root of a hierarchical tree to a particular node**.\n",
    "\n",
    "Task:\n",
    "1. Write an SQL query to report the type of each node in the family tree. Return the result table ordered by id in ascending order. Each node in the tree can be one of three types: (1) \"Leaf\": if the node is a leaf node. (2)\"Root\": if the node is the root of the tree. (3)\"Inner\": If the node is neither a leaf node nor a root node.\n",
    "2. Get all child nodes from a parent node.\n",
    "    - Find the tree hierarchy of child node under a node 3.\n",
    "3. Get all parent nodes from a child node.\n",
    "    - Find the the tree hierarchy of parent nodes for a given leaf node 6."
   ]
  },
  {
   "cell_type": "code",
   "execution_count": 10,
   "id": "1966c389",
   "metadata": {},
   "outputs": [],
   "source": [
    "cur.execute('DROP TABLE IF EXISTS tree')\n",
    "cur.execute('DROP EXTENSION IF EXISTS ltree;')\n",
    "\n",
    "# create tree with ltree module\n",
    "cur.execute('CREATE EXTENSION IF NOT EXISTS ltree;')\n",
    "\n",
    "create_tree = '''CREATE TABLE IF NOT EXISTS tree(\n",
    "                    id    int PRIMARY KEY,\n",
    "                    name  text,\n",
    "                    parent_path ltree)\n",
    "              '''   \n",
    "cur.execute(create_tree)\n",
    "\n",
    "create_index = '''CREATE INDEX parent_path_idx \n",
    "                  ON tree \n",
    "                  USING GIST (parent_path);   -- GIST stands for Generalized Search Tree\n",
    "              '''   \n",
    "cur.execute(create_index)    # index is like pointer to db data\n",
    "\n",
    "\n",
    "\n",
    "insert_tree = '''INSERT INTO tree (id, name, parent_path)\n",
    "                    VALUES (%s, %s, %s)'''\n",
    "insert_nodes = [(1, 'Intro', 'root'), (2, 'Section 1', 'root.2'),\n",
    "                (3, 'Section 1.1', 'root.2.3'),(4, 'Section 2', 'root.4'), \n",
    "                (5, 'Section 2.1', 'root.4.5'),(6, 'Section 2.2', 'root.4.6'), \n",
    "                (7, 'Section 2.2.1', 'root.4.6.7')]\n",
    "\n",
    "\n",
    "for node in insert_nodes:\n",
    "        cur.execute(insert_tree, node)"
   ]
  },
  {
   "cell_type": "code",
   "execution_count": 11,
   "id": "c9ddce6d",
   "metadata": {},
   "outputs": [
    {
     "name": "stdout",
     "output_type": "stream",
     "text": [
      "('F1', 'Leaf')\n",
      "('F2', 'Leaf')\n",
      "('F3', 'Leaf')\n",
      "('F4', 'Root')\n",
      "('F5', 'Inner')\n",
      "('F6', 'Root')\n",
      "('F7', 'Leaf')\n",
      "('F8', 'Leaf')\n"
     ]
    }
   ],
   "source": [
    "#task1\n",
    "tree1_script = '''SELECT member_id,\n",
    "                    CASE WHEN parent_id IS NULL THEN 'Root'\n",
    "                        WHEN member_id IN (SELECT parent_id FROM family) THEN 'Inner'\n",
    "                        ELSE 'Leaf'\n",
    "                    END AS type\n",
    "                FROM family\n",
    "                ORDER BY member_id;\n",
    "                '''\n",
    "cur.execute(tree1_script)\n",
    "\n",
    "for record in cur.fetchall():\n",
    "    print(record) "
   ]
  },
  {
   "cell_type": "code",
   "execution_count": 12,
   "id": "bbf7e4f2",
   "metadata": {},
   "outputs": [
    {
     "name": "stdout",
     "output_type": "stream",
     "text": [
      "(4, 'Section 2', 'root.4')\n",
      "(5, 'Section 2.1', 'root.4.5')\n",
      "(6, 'Section 2.2', 'root.4.6')\n",
      "(7, 'Section 2.2.1', 'root.4.6.7')\n"
     ]
    }
   ],
   "source": [
    "# task2\n",
    "tree2_script = ''' SELECT * FROM tree WHERE parent_path <@ 'root.4';\n",
    "                '''   # @ will match case-insensitively, for example a@ matches A\n",
    "cur.execute(tree2_script)\n",
    "\n",
    "for record in cur.fetchall():\n",
    "    print(record) "
   ]
  },
  {
   "cell_type": "code",
   "execution_count": 13,
   "id": "c2371077",
   "metadata": {},
   "outputs": [
    {
     "name": "stdout",
     "output_type": "stream",
     "text": [
      "(1, 'Intro', 'root')\n",
      "(4, 'Section 2', 'root.4')\n",
      "(6, 'Section 2.2', 'root.4.6')\n",
      "(7, 'Section 2.2.1', 'root.4.6.7')\n"
     ]
    }
   ],
   "source": [
    "# task3\n",
    "tree3_script = ''' SELECT * FROM tree WHERE parent_path @> 'root.4.6.7';\n",
    "                '''   # @ will match case-insensitively, for example a@ matches A\n",
    "cur.execute(tree3_script)\n",
    "\n",
    "for record in cur.fetchall():\n",
    "    print(record) "
   ]
  },
  {
   "cell_type": "markdown",
   "id": "eb525ead",
   "metadata": {},
   "source": [
    "## Disconnect Database"
   ]
  },
  {
   "cell_type": "code",
   "execution_count": 14,
   "id": "a0b9c8b6",
   "metadata": {},
   "outputs": [
    {
     "name": "stdout",
     "output_type": "stream",
     "text": [
      "Conncetion closed!\n"
     ]
    }
   ],
   "source": [
    "#close the connection if connect success\n",
    "if cur is not None:\n",
    "    cur.close()\n",
    "if conn != None:\n",
    "    conn.close()\n",
    "print(\"Connection closed!\")"
   ]
  },
  {
   "cell_type": "markdown",
   "id": "3f92961b",
   "metadata": {},
   "source": [
    "## Python ORM\n",
    "ORM(Object-Relational Mappers), a code library that automates the transfer of data stored in relational database tables into objects that are more commonly used in application code.\n",
    "\n",
    "ORM pros:\n",
    "- Safer way to deal with database.\n",
    "- Write Python code instead of SQL statements to CRUD.\n",
    "- Speed up web application development, not having to switch from Python code into writing declarative paradigm SQL statements.\n",
    "- Theoretically possible to switch an application between various relational databases with minimal code modifications.\n",
    "\n",
    "ORM cons:\n",
    "- Potential for reduced performance.\n",
    "- Shifting complexity from the database into the application code."
   ]
  },
  {
   "cell_type": "markdown",
   "id": "850c55ed",
   "metadata": {},
   "source": [
    "## Peewee\n",
    "\n",
    "Compared with using `psycopg2`, `peewee` wrap SQL statement around classes, avoid directly modify data and given more security.\n",
    "\n",
    "**Model Definition**\n",
    "Model classes, fields and model instances all map to database concepts:\n",
    "\n",
    "|Object\t|Corresponds to…|\n",
    "|:-------|:---------------|\n",
    "|Model class|\tDatabase table|\n",
    "|Field instance\t|Column on a table|\n",
    "|Model instance\t|Row in a database table|\n",
    "\n",
    "\n",
    "### Connect to db and create table"
   ]
  },
  {
   "cell_type": "code",
   "execution_count": 15,
   "id": "e9bc36a7",
   "metadata": {},
   "outputs": [],
   "source": [
    "from peewee import *\n",
    "\n",
    "hostname = 'localhost'\n",
    "database = 'peewee_test'\n",
    "username = 'i52'\n",
    "pwd = ''\n",
    "port_id = 5432\n",
    "\n",
    "db = PostgresqlDatabase(database, host=hostname, port=port_id, user=username, password=pwd)"
   ]
  },
  {
   "cell_type": "code",
   "execution_count": 16,
   "id": "9c425ca6",
   "metadata": {},
   "outputs": [],
   "source": [
    "# same as: CREATE TABLE person ( id SERIAL PRIMARY KEY, name character varying(255) NOT NULL, birthday date NOT NULL);\n",
    "class Person(Model):\n",
    "    name = CharField()\n",
    "    birthday = DateField()\n",
    "\n",
    "    class Meta:\n",
    "        database = db # This model uses the \"peewee_test.db\" database.\n",
    "\n",
    "\n",
    "\n",
    "\n",
    "# same as: CREATE TABLE pet ( id SERIAL PRIMARY KEY, owner_id integer NOT NULL REFERENCES person(id), name character varying(255) NOT NULL, animal_type character varying(255) NOT NULL);\n",
    "class Pet(Model):\n",
    "    owner = ForeignKeyField(Person, backref='pets')\n",
    "    name = CharField()\n",
    "    animal_type = CharField()\n",
    "\n",
    "    class Meta:\n",
    "        database = db # this model uses the \"peewee_test.db\" database"
   ]
  },
  {
   "cell_type": "code",
   "execution_count": 17,
   "id": "8203457b",
   "metadata": {},
   "outputs": [],
   "source": [
    "# connect to the database\n",
    "db.connect()\n",
    "\n",
    "# create the tables \n",
    "db.create_tables([Person, Pet])\n",
    "\n",
    "# run query from terminal\n",
    "\n",
    "# peewee_test=# SELECT column_name, data_type FROM information_schema.columns WHERE table_name = 'person' ;\n",
    "#  column_name |     data_type     \n",
    "# -------------+-------------------\n",
    "#  id          | integer\n",
    "#  birthday    | date\n",
    "#  name        | character varying\n",
    "# (3 rows)\n",
    "# peewee_test=# SELECT column_name, data_type FROM information_schema.columns WHERE table_name = 'pet';\n",
    "#  column_name |     data_type     \n",
    "# -------------+-------------------\n",
    "#  id          | integer\n",
    "#  owner_id    | integer\n",
    "#  name        | character varying\n",
    "#  animal_type | character varying\n",
    "# (4 rows)"
   ]
  },
  {
   "cell_type": "markdown",
   "id": "938aa526",
   "metadata": {},
   "source": [
    "### Insert data"
   ]
  },
  {
   "cell_type": "code",
   "execution_count": 18,
   "id": "25601d3d",
   "metadata": {},
   "outputs": [
    {
     "data": {
      "text/plain": [
       "1"
      ]
     },
     "execution_count": 18,
     "metadata": {},
     "output_type": "execute_result"
    }
   ],
   "source": [
    "from datetime import date\n",
    "\n",
    "# same as: INSERT INTO person VALUES (1, 'Bob', '1960-01-15')\n",
    "uncle_bob = Person(name='Bob', birthday=date(1960, 1, 15))\n",
    "uncle_bob.save() # bob is now stored in the database\n",
    "\n",
    "# Returns: 1, When you call save(), the number of rows modified is returned."
   ]
  },
  {
   "cell_type": "code",
   "execution_count": 19,
   "id": "64e81a94",
   "metadata": {},
   "outputs": [],
   "source": [
    "# can also add a person by calling the create() method, which returns a model instance\n",
    "grandma = Person.create(name='Grandma', birthday=date(1935, 3, 1))\n",
    "herb = Person.create(name='Herb', birthday=date(1950, 5, 5))\n",
    "\n",
    "bob_kitty = Pet.create(owner=uncle_bob, name='Kitty', animal_type='cat')\n",
    "herb_fido = Pet.create(owner=herb, name='Fido', animal_type='dog')\n",
    "herb_mittens = Pet.create(owner=herb, name='Mittens', animal_type='cat')\n",
    "herb_mittens_jr = Pet.create(owner=herb, name='Mittens Jr', animal_type='cat')"
   ]
  },
  {
   "cell_type": "markdown",
   "id": "0a4ba4b8",
   "metadata": {},
   "source": [
    "### Delete data"
   ]
  },
  {
   "cell_type": "code",
   "execution_count": 20,
   "id": "6d06892b",
   "metadata": {
    "scrolled": true
   },
   "outputs": [
    {
     "data": {
      "text/plain": [
       "1"
      ]
     },
     "execution_count": 20,
     "metadata": {},
     "output_type": "execute_result"
    }
   ],
   "source": [
    "herb_mittens.delete_instance() # he had a great life\n",
    "# Returns: 1, The return value of delete_instance() is the number of rows removed from the database."
   ]
  },
  {
   "cell_type": "markdown",
   "id": "f230244d",
   "metadata": {},
   "source": [
    "### Update data"
   ]
  },
  {
   "cell_type": "code",
   "execution_count": 21,
   "id": "40ab88cd",
   "metadata": {},
   "outputs": [
    {
     "data": {
      "text/plain": [
       "1"
      ]
     },
     "execution_count": 21,
     "metadata": {},
     "output_type": "execute_result"
    }
   ],
   "source": [
    "# To update a row, modify the model instance and call save() to persist the changes.\n",
    "grandma.name = 'Grandma L.'\n",
    "grandma.save()  # Update grandma's name in the database."
   ]
  },
  {
   "cell_type": "code",
   "execution_count": 22,
   "id": "2871cff2",
   "metadata": {},
   "outputs": [
    {
     "data": {
      "text/plain": [
       "1"
      ]
     },
     "execution_count": 22,
     "metadata": {},
     "output_type": "execute_result"
    }
   ],
   "source": [
    "herb_fido.owner = uncle_bob\n",
    "herb_fido.save()   # Update uncle Bob adopts Herb’s Fido in the database."
   ]
  },
  {
   "cell_type": "markdown",
   "id": "09d03f79",
   "metadata": {},
   "source": [
    "### Select data"
   ]
  },
  {
   "cell_type": "code",
   "execution_count": 23,
   "id": "c1a8a7a9",
   "metadata": {},
   "outputs": [
    {
     "name": "stdout",
     "output_type": "stream",
     "text": [
      "---- Model.select.where.get(): SELECT * FROM person WHERE name = 'Grandma L.' ----\n",
      "2 Grandma L. 1935-03-01\n",
      "\n",
      "---- Model.get(): SELECT id FROM person WHERE name = 'Grandma L.' ----\n",
      "2\n"
     ]
    }
   ],
   "source": [
    "# To get a single record from the database, use Select.get():\n",
    "grandma = Person.select().where(Person.name == 'Grandma L.').get()\n",
    "print('---- Model.select.where.get(): SELECT * FROM person WHERE name = \\'Grandma L.\\' ----')\n",
    "print(grandma.id, grandma.name, grandma.birthday)\n",
    "\n",
    "# can also use the equivalent shorthand Model.get():\n",
    "grandma = Person.get(Person.name == 'Grandma L.')\n",
    "print('\\n---- Model.get(): SELECT id FROM person WHERE name = \\'Grandma L.\\' ----')\n",
    "print(grandma)"
   ]
  },
  {
   "cell_type": "code",
   "execution_count": 24,
   "id": "0f94fc60",
   "metadata": {},
   "outputs": [
    {
     "name": "stdout",
     "output_type": "stream",
     "text": [
      "---- Model.select(): SELECT * FROM person ----\n",
      "1 Bob 1960-01-15\n",
      "3 Herb 1950-05-05\n",
      "2 Grandma L. 1935-03-01\n",
      "4 Bob 1960-01-15\n",
      "6 Herb 1950-05-05\n",
      "5 Grandma L. 1935-03-01\n"
     ]
    }
   ],
   "source": [
    "# Get list of record from database\n",
    "print('---- Model.select(): SELECT * FROM person ----')\n",
    "for person in Person.select():\n",
    "    print(person.id, person.name, person.birthday)"
   ]
  },
  {
   "cell_type": "code",
   "execution_count": 25,
   "id": "d1ab7137",
   "metadata": {},
   "outputs": [
    {
     "name": "stdout",
     "output_type": "stream",
     "text": [
      "---- SELECT p.name, pr.name FROM pet p JOIN person pr ON p.owner_id = pr.id WHERE p.animal_type = 'cat' ----\n",
      "Kitty Bob\n",
      "Mittens Jr Herb\n",
      "Kitty Bob\n",
      "Mittens Jr Herb\n"
     ]
    }
   ],
   "source": [
    "query = (Pet\n",
    "         .select(Pet, Person)\n",
    "         .join(Person)\n",
    "         .where(Pet.animal_type == 'cat'))\n",
    "\n",
    "print('---- SELECT p.name, pr.name FROM pet p JOIN person pr ON p.owner_id = pr.id WHERE p.animal_type = \\'cat\\' ----')\n",
    "for pet in query:\n",
    "    print(pet.name, pet.owner.name)"
   ]
  },
  {
   "cell_type": "code",
   "execution_count": 26,
   "id": "ed70cde2",
   "metadata": {},
   "outputs": [
    {
     "name": "stdout",
     "output_type": "stream",
     "text": [
      "---- select.join.where(): SELECT p.name FROM pet p JOIN person pr ON p.owner_id = pr.id WHERE pr.name = 'Bob' ----\n",
      "Kitty\n",
      "Fido\n",
      "Kitty\n",
      "Fido\n",
      "\n",
      "---- select.where(): SELECT p.name FROM pet p JOIN person pr ON p.owner_id = pr.id WHERE pr.name = 'Bob' ----\n",
      "Kitty\n",
      "Fido\n"
     ]
    }
   ],
   "source": [
    "print('---- select.join.where(): SELECT p.name FROM pet p JOIN person pr ON p.owner_id = pr.id WHERE pr.name = \\'Bob\\' ----')\n",
    "for pet in Pet.select().join(Person).where(Person.name == 'Bob'):\n",
    "    print(pet.name)\n",
    "    \n",
    "# since there is already have an object to represent Bob, we can do this instead:\n",
    "print('\\n---- select.where(): SELECT p.name FROM pet p JOIN person pr ON p.owner_id = pr.id WHERE pr.name = \\'Bob\\' ----')\n",
    "for pet in Pet.select().where(Pet.owner == uncle_bob):\n",
    "    print(pet.name)"
   ]
  },
  {
   "cell_type": "markdown",
   "id": "2c423de1",
   "metadata": {},
   "source": [
    "### Sorting data/ Order by"
   ]
  },
  {
   "cell_type": "code",
   "execution_count": 27,
   "id": "9f8d1077",
   "metadata": {},
   "outputs": [
    {
     "name": "stdout",
     "output_type": "stream",
     "text": [
      "---- SELECT p.name FROM pet p JOIN person pr ON p.owner_id = pr.id WHERE pr.name = 'Bob' ORDER BY p.name ----\n",
      "Fido\n",
      "Kitty\n",
      "\n",
      "---- SELECT name, birthday FROM person ORDER BY birthday desc\n",
      "Bob 1960-01-15\n",
      "Bob 1960-01-15\n",
      "Herb 1950-05-05\n",
      "Herb 1950-05-05\n",
      "Grandma L. 1935-03-01\n",
      "Grandma L. 1935-03-01\n"
     ]
    }
   ],
   "source": [
    "print('---- SELECT p.name FROM pet p JOIN person pr ON p.owner_id = pr.id WHERE pr.name = \\'Bob\\' ORDER BY p.name ----')\n",
    "for pet in Pet.select().where(Pet.owner == uncle_bob).order_by(Pet.name):\n",
    "    print(pet.name)\n",
    "    \n",
    "\n",
    "print('\\n---- SELECT name, birthday FROM person ORDER BY birthday desc')\n",
    "for person in Person.select().order_by(Person.birthday.desc()):\n",
    "    print(person.name, person.birthday)"
   ]
  },
  {
   "cell_type": "markdown",
   "id": "7e9e755a",
   "metadata": {},
   "source": [
    "### Combining filter expressions / AND OR"
   ]
  },
  {
   "cell_type": "code",
   "execution_count": 28,
   "id": "dc46fb27",
   "metadata": {},
   "outputs": [
    {
     "name": "stdout",
     "output_type": "stream",
     "text": [
      "---- SELECT name, birthday FROM person WHERE birthday<'1940-01-01' OR birthday>'1960-01-01'\n",
      "Bob 1960-01-15\n",
      "Grandma L. 1935-03-01\n",
      "Bob 1960-01-15\n",
      "Grandma L. 1935-03-01\n",
      "\n",
      "---- SELECT name, birthday FROM person WHERE birthday>'1940-01-01' AND birthday<'1960-01-01'\n",
      "Herb 1950-05-05\n",
      "Herb 1950-05-05\n"
     ]
    }
   ],
   "source": [
    "d1940 = date(1940, 1, 1)\n",
    "d1960 = date(1960, 1, 1)\n",
    "query = (Person\n",
    "         .select()\n",
    "         .where((Person.birthday < d1940) | (Person.birthday > d1960)))\n",
    "\n",
    "print('---- SELECT name, birthday FROM person WHERE birthday<\\'1940-01-01\\' OR birthday>\\'1960-01-01\\'')\n",
    "for person in query:\n",
    "    print(person.name, person.birthday)\n",
    "    \n",
    "query = (Person\n",
    "         .select()\n",
    "         .where(Person.birthday.between(d1940, d1960)))\n",
    "\n",
    "print('\\n---- SELECT name, birthday FROM person WHERE birthday>\\'1940-01-01\\' AND birthday<\\'1960-01-01\\'')\n",
    "for person in query:\n",
    "    print(person.name, person.birthday)"
   ]
  },
  {
   "cell_type": "markdown",
   "id": "79c4d330",
   "metadata": {},
   "source": [
    "### Aggregates and Prefetch"
   ]
  },
  {
   "cell_type": "code",
   "execution_count": 29,
   "id": "5d59dc55",
   "metadata": {},
   "outputs": [
    {
     "name": "stdout",
     "output_type": "stream",
     "text": [
      "---- SELECT pr.name, COUNT(p.id) AS pet_count \n",
      "FROM person pr LEFT JOIN pet p ON p.owner_id = pr.id GROUP BY pr.name ORDER BY pr.name ----\n",
      "\n",
      "Bob 2 pets\n",
      "Bob 2 pets\n",
      "Grandma L. 0 pets\n",
      "Grandma L. 0 pets\n",
      "Herb 1 pets\n",
      "Herb 1 pets\n"
     ]
    }
   ],
   "source": [
    "query = (Person\n",
    "         .select(Person, fn.COUNT(Pet.id).alias('pet_count'))\n",
    "         .join(Pet, JOIN.LEFT_OUTER)  # include people without pets.\n",
    "         .group_by(Person)\n",
    "         .order_by(Person.name))\n",
    "\n",
    "# Peewee provides a magical helper fn(), which can be used to call any SQL function. \n",
    "# In the above example, fn.COUNT(Pet.id).alias('pet_count') would be translated into COUNT(pet.id) AS pet_count.\n",
    "\n",
    "\n",
    "print('---- SELECT pr.name, COUNT(p.id) AS pet_count \\nFROM person pr LEFT JOIN pet p ON p.owner_id = pr.id GROUP BY pr.name ORDER BY pr.name ----\\n')\n",
    "for person in query:\n",
    "    # \"pet_count\" becomes an attribute on the returned model instances.\n",
    "    print(person.name, person.pet_count, 'pets')"
   ]
  },
  {
   "cell_type": "code",
   "execution_count": 30,
   "id": "f431c75d",
   "metadata": {},
   "outputs": [
    {
     "name": "stdout",
     "output_type": "stream",
     "text": [
      "---- SELECT pr.name, \n",
      "\tCASE WHEN p.name is NULL  THEN 'no pets' ELSE p.name END\n",
      "     FROM person pr LEFT JOIN pet p ON p.owner_id = pr.id ORDER BY pr.name, p.name ----\n",
      "\n",
      "Bob Fido\n",
      "Bob Fido\n",
      "Bob Kitty\n",
      "Bob Kitty\n",
      "Grandma L. no pets\n",
      "Grandma L. no pets\n",
      "Herb Mittens Jr\n",
      "Herb Mittens Jr\n",
      "\n",
      "---- prefetch() ----\n",
      "Bob\n",
      "  * Kitty\n",
      "  * Fido\n",
      "Bob\n",
      "  * Kitty\n",
      "  * Fido\n",
      "Grandma L.\n",
      "Grandma L.\n",
      "Herb\n",
      "  * Mittens Jr\n",
      "Herb\n",
      "  * Mittens Jr\n"
     ]
    }
   ],
   "source": [
    "query = (Person\n",
    "         .select(Person, Pet)\n",
    "         .join(Pet, JOIN.LEFT_OUTER)\n",
    "         .order_by(Person.name, Pet.name))\n",
    "\n",
    "print('---- SELECT pr.name, \\n\\tCASE WHEN p.name is NULL  THEN \\'no pets\\' ELSE p.name END\\n     FROM person pr LEFT JOIN pet p ON p.owner_id = pr.id ORDER BY pr.name, p.name ----\\n')\n",
    "\n",
    "for person in query:\n",
    "    # We need to check if they have a pet instance attached, since not all\n",
    "    # people have pets.\n",
    "    if hasattr(person, 'pet'):\n",
    "        print(person.name, person.pet.name)\n",
    "    else:\n",
    "        print(person.name, 'no pets')\n",
    "\n",
    "        \n",
    "# can use a special method called prefetch():\n",
    "query = Person.select().order_by(Person.name).prefetch(Pet)\n",
    "print('\\n---- prefetch() ----')\n",
    "for person in query:\n",
    "    print(person.name)\n",
    "    for pet in person.pets:\n",
    "        print('  *', pet.name)"
   ]
  },
  {
   "cell_type": "markdown",
   "id": "fddf105e",
   "metadata": {},
   "source": [
    "### SQL Functions"
   ]
  },
  {
   "cell_type": "code",
   "execution_count": 31,
   "id": "b0d5dff8",
   "metadata": {},
   "outputs": [
    {
     "name": "stdout",
     "output_type": "stream",
     "text": [
      "---- SELECT name FROM person WHERE LOWER(SUBSTR(name, 1, 1)) = 'g'\n",
      "Grandma L.\n",
      "Grandma L.\n"
     ]
    }
   ],
   "source": [
    "expression = fn.Lower(fn.Substr(Person.name, 1, 1)) == 'g'\n",
    "\n",
    "print('---- SELECT name FROM person WHERE LOWER(SUBSTR(name, 1, 1)) = \\'g\\'')\n",
    "for person in Person.select().where(expression):\n",
    "    print(person.name)"
   ]
  },
  {
   "cell_type": "markdown",
   "id": "05123801",
   "metadata": {},
   "source": [
    "### Close connection"
   ]
  },
  {
   "cell_type": "code",
   "execution_count": 32,
   "id": "f2a2a97a",
   "metadata": {},
   "outputs": [
    {
     "data": {
      "text/plain": [
       "True"
      ]
     },
     "execution_count": 32,
     "metadata": {},
     "output_type": "execute_result"
    }
   ],
   "source": [
    "db.close()"
   ]
  },
  {
   "cell_type": "markdown",
   "id": "1cb0729c",
   "metadata": {},
   "source": [
    "### Working with existing databases"
   ]
  },
  {
   "cell_type": "code",
   "execution_count": 33,
   "id": "3eca374d",
   "metadata": {},
   "outputs": [],
   "source": [
    "# # in terminal, use the following command to convert an existing databases to a python file\n",
    "# # $ python3 -m pwiz -e postgresql my_postgres_db > output_python_file.py\n",
    "\n",
    "# # eg: $ python3 -m pwiz -e postgresql mydb > peewee_module.py\n",
    "\n",
    "\n",
    "# # the result from peewee_module.py\n",
    "\n",
    "# from peewee import *\n",
    "\n",
    "# database = PostgresqlDatabase('mydb')\n",
    "\n",
    "# class UnknownField(object):\n",
    "#     def __init__(self, *_, **__): pass\n",
    "\n",
    "# class BaseModel(Model):\n",
    "#     class Meta:\n",
    "#         database = database\n",
    "\n",
    "# class Department(BaseModel):\n",
    "#     dept_id = CharField(null=True)\n",
    "#     dept_name = CharField(null=True)\n",
    "\n",
    "#     class Meta:\n",
    "#         table_name = 'department'\n",
    "#         primary_key = False\n",
    "\n",
    "# class Employee(BaseModel):\n",
    "#     dept_id = CharField(null=True)\n",
    "#     emp_id = CharField(primary_key=True)\n",
    "#     manager_id = CharField(null=True)\n",
    "#     name = CharField()\n",
    "#     salary = IntegerField(null=True)\n",
    "#     sex = UnknownField(null=True)  # USER-DEFINED\n",
    "\n",
    "#     class Meta:\n",
    "#         table_name = 'employee'\n",
    "\n",
    "# class Family(BaseModel):\n",
    "#     age = IntegerField(null=True)\n",
    "#     member_id = CharField(null=True)\n",
    "#     name = CharField(null=True)\n",
    "#     parent_id = CharField(null=True)\n",
    "\n",
    "#     class Meta:\n",
    "#         table_name = 'family'\n",
    "#         primary_key = False\n",
    "\n",
    "# class Manager(BaseModel):\n",
    "#     dept_id = CharField(null=True)\n",
    "#     manager_id = CharField(null=True)\n",
    "#     manager_name = CharField(null=True)\n",
    "\n",
    "#     class Meta:\n",
    "#         table_name = 'manager'\n",
    "#         primary_key = False\n",
    "\n",
    "# class Projects(BaseModel):\n",
    "#     project_id = CharField(null=True)\n",
    "#     project_name = CharField(null=True)\n",
    "#     team_member_id = CharField(null=True)\n",
    "\n",
    "#     class Meta:\n",
    "#         table_name = 'projects'\n",
    "#         primary_key = False\n",
    "\n",
    "# class Tree(BaseModel):\n",
    "#     name = TextField(null=True)\n",
    "#     parent_path = UnknownField(index=True, null=True)  # USER-DEFINED\n",
    "\n",
    "#     class Meta:\n",
    "#         table_name = 'tree'"
   ]
  },
  {
   "cell_type": "markdown",
   "id": "336444e5",
   "metadata": {},
   "source": [
    "## SQLAlchemy\n",
    "\n",
    "SQLAlchemy offers cleaner code, more secure code, simpler logic than raw SQL approach. Instead of having to think on a table, row, and column level, we can consider everything on a class, instance, and attribute level.\n",
    "\n",
    "There are three levels for using SQLAlchemy:\n",
    "1. Using only SQLAlchemy's engine component to execute raw SQL.\n",
    "2. Using SQLAlchemy's expression language to build SQL statements in a more Pythonic way than using raw SQL strings.\n",
    "3. Using SQLAlchemy's full Object Relational Mapping (ORM) capabilities which allows one to think in terms of Python classes and objects instead of database tables and connections.\n",
    "\n",
    "Following code will focus on how to run each of the CRUD operations on each level and there differences.\n",
    "\n",
    "### Using Raw SQL\n",
    "\n",
    "Using this method, none of the above advantages are used, and we may as well use only a basic Python database driver (e.g. psycopg)."
   ]
  },
  {
   "cell_type": "code",
   "execution_count": 34,
   "id": "80610f02",
   "metadata": {},
   "outputs": [
    {
     "name": "stdout",
     "output_type": "stream",
     "text": [
      "---- Read ----\n",
      "('Doctor Strange', 'Scott Derrickson', '2016')\n",
      "('Harry Potter', 'Raw', '2008')\n",
      "---- Update ----\n",
      "('Harry Potter', 'Raw', '2008')\n",
      "('Some2016Film', 'Scott Derrickson', '2016')\n",
      "---- Delete ----\n",
      "('Harry Potter', 'Raw', '2008')\n"
     ]
    }
   ],
   "source": [
    "from sqlalchemy import create_engine\n",
    "\n",
    "pgsql = { 'hostname': 'localhost',\n",
    "            'database' : 'sqlalchemy_test',\n",
    "            'username' : 'i52',\n",
    "            'pwd' : '',\n",
    "            'port_id' : 5432\n",
    "        }\n",
    "\n",
    "db_string = \"postgresql://{username}:{pwd}@{hostname}:{port_id}/{database}\".format(**pgsql)\n",
    "\n",
    "db = create_engine(db_string)\n",
    "\n",
    "db.execute(\"DROP TABLE IF EXISTS films\")\n",
    "\n",
    "# Create \n",
    "db.execute(\"CREATE TABLE IF NOT EXISTS films (title text, director text, year text)\") \n",
    "db.execute(\"INSERT INTO films (title, director, year) VALUES ('Doctor Strange', 'Scott Derrickson', '2016')\")\n",
    "db.execute(\"INSERT INTO films (title, director, year) VALUES ('Harry Potter', 'Raw', '2008')\")\n",
    "\n",
    "# Read\n",
    "print('---- Read ----')\n",
    "result_set = db.execute(\"SELECT * FROM films\")  \n",
    "for r in result_set:  \n",
    "    print(r)\n",
    "\n",
    "# Update\n",
    "print('---- Update ----')\n",
    "db.execute(\"UPDATE films SET title='Some2016Film' WHERE year='2016'\")\n",
    "result_set = db.execute(\"SELECT * FROM films\")  \n",
    "for r in result_set:  \n",
    "    print(r)\n",
    "\n",
    "# Delete\n",
    "print('---- Delete ----')\n",
    "db.execute(\"DELETE FROM films WHERE year='2016'\")\n",
    "result_set = db.execute(\"SELECT * FROM films\")  \n",
    "for r in result_set:  \n",
    "    print(r)\n",
    "    \n",
    "\n",
    "# Disconnect\n",
    "db.dispose()"
   ]
  },
  {
   "cell_type": "markdown",
   "id": "00c1c3ef",
   "metadata": {},
   "source": [
    "### Using the SQL Expression Language\n",
    "\n",
    "Code is a little bit more verbose, and also fairly complicated and difficult to read, so we don't gain that much over the raw SQL queries above. But we're already starting to get closer to interacting with our database in a pythonic way.\n",
    "\n",
    "- C: `.create() .insert() .values() `\n",
    "- R: `.select() .where()`\n",
    "- U: `.update() .where() .values()`\n",
    "- D: `.delete() .where()`"
   ]
  },
  {
   "cell_type": "code",
   "execution_count": 35,
   "id": "591b548a",
   "metadata": {},
   "outputs": [
    {
     "name": "stdout",
     "output_type": "stream",
     "text": [
      "---- Read ----\n",
      "('Doctor Strange', 'Scott Derrickson', '2016')\n",
      "('Harry Potter', 'Language', '2008')\n",
      "---- Update ----\n",
      "('Harry Potter', 'Language', '2008')\n",
      "('Some2016Film', 'Scott Derrickson', '2016')\n",
      "---- Delete ----\n",
      "('Harry Potter', 'Language', '2008')\n"
     ]
    }
   ],
   "source": [
    "from sqlalchemy import create_engine  \n",
    "from sqlalchemy import Table, Column, String, MetaData\n",
    "\n",
    "pgsql = { 'hostname': 'localhost',\n",
    "            'database' : 'sqlalchemy_test',\n",
    "            'username' : 'i52',\n",
    "            'pwd' : '',\n",
    "            'port_id' : 5432\n",
    "        }\n",
    "\n",
    "db_string = \"postgresql://{username}:{pwd}@{hostname}:{port_id}/{database}\".format(**pgsql)\n",
    "\n",
    "db = create_engine(db_string)\n",
    "\n",
    "db.execute(\"DROP TABLE IF EXISTS films\")\n",
    "\n",
    "meta = MetaData(db)  \n",
    "film_table = Table('films', meta,  \n",
    "                       Column('title', String),\n",
    "                       Column('director', String),\n",
    "                       Column('year', String))\n",
    "\n",
    "with db.connect() as conn:\n",
    "    # Create\n",
    "    film_table.create()\n",
    "    insert_statement = film_table.insert().values(title=\"Doctor Strange\", director=\"Scott Derrickson\", year=\"2016\")\n",
    "    conn.execute(insert_statement)\n",
    "    insert_statement = film_table.insert().values(title=\"Harry Potter\", director=\"Language\", year=\"2008\")\n",
    "    conn.execute(insert_statement)\n",
    "\n",
    "    # Read\n",
    "    select_statement = film_table.select()\n",
    "    result_set = conn.execute(select_statement)\n",
    "    print('---- Read ----')\n",
    "    for r in result_set:\n",
    "        print(r)\n",
    "\n",
    "    # Update\n",
    "    update_statement = film_table.update().where(film_table.c.year==\"2016\").values(title = \"Some2016Film\")\n",
    "    conn.execute(update_statement)\n",
    "    print('---- Update ----')\n",
    "    for r in conn.execute(film_table.select()):\n",
    "        print(r)\n",
    "\n",
    "    # Delete\n",
    "    delete_statement = film_table.delete().where(film_table.c.year == \"2016\")\n",
    "    conn.execute(delete_statement)\n",
    "    print('---- Delete ----')\n",
    "    for r in conn.execute(film_table.select()):\n",
    "        print(r)\n",
    "        \n",
    "# Disconnect\n",
    "db.dispose()"
   ]
  },
  {
   "cell_type": "markdown",
   "id": "63457511",
   "metadata": {},
   "source": [
    "### Using the SQL ORM\n",
    "\n",
    "Code is now longer again in terms of lines, but more concise in terms of line length, and it is more readable. At this point, we can largely ignore database concepts such as tables, and think only in terms of Python objects."
   ]
  },
  {
   "cell_type": "code",
   "execution_count": 36,
   "id": "0a965ddc",
   "metadata": {},
   "outputs": [
    {
     "name": "stdout",
     "output_type": "stream",
     "text": [
      "---- Read ----\n",
      "Doctor Strange Scott Derrickson\n",
      "Harry Potter ORM\n",
      "---- Update ----\n",
      "Harry Potter ORM\n",
      "Some2016Film Scott Derrickson\n",
      "---- Delete ----\n",
      "Harry Potter ORM\n"
     ]
    }
   ],
   "source": [
    "from sqlalchemy import create_engine  \n",
    "from sqlalchemy import Column, String  \n",
    "from sqlalchemy.ext.declarative import declarative_base  \n",
    "from sqlalchemy.orm import sessionmaker\n",
    "\n",
    "pgsql = { 'hostname': 'localhost',\n",
    "            'database' : 'sqlalchemy_test',\n",
    "            'username' : 'i52',\n",
    "            'pwd' : '',\n",
    "            'port_id' : 5432\n",
    "        }\n",
    "\n",
    "db_string = \"postgresql://{username}:{pwd}@{hostname}:{port_id}/{database}\".format(**pgsql)\n",
    "\n",
    "db = create_engine(db_string)  \n",
    "base = declarative_base()\n",
    "\n",
    "class Film(base):  \n",
    "    __tablename__ = 'films'\n",
    "\n",
    "    title = Column(String, primary_key=True)\n",
    "    director = Column(String)\n",
    "    year = Column(String)\n",
    "\n",
    "# Session: intelligent connection to database \n",
    "# will watch Python code and modify the database as necessary\n",
    "Session = sessionmaker(db)  \n",
    "session = Session()\n",
    "\n",
    "\n",
    "base.metadata.drop_all(db)\n",
    "base.metadata.create_all(db)\n",
    "\n",
    "# Create \n",
    "doctor_strange = Film(title=\"Doctor Strange\", director=\"Scott Derrickson\", year=\"2016\")\n",
    "harry_potter = Film(title=\"Harry Potter\", director=\"ORM\", year=\"2008\")\n",
    "session.add(doctor_strange)\n",
    "session.add(harry_potter)\n",
    "session.commit()    # commit the change\n",
    "\n",
    "# Read\n",
    "print('---- Read ----')\n",
    "films = session.query(Film)  \n",
    "for film in films:  \n",
    "    print(film.title, film.director)\n",
    "\n",
    "# Update\n",
    "print('---- Update ----')\n",
    "doctor_strange.title = \"Some2016Film\"  \n",
    "session.commit()\n",
    "films = session.query(Film)  \n",
    "for film in films:\n",
    "    print(film.title, film.director)\n",
    "\n",
    "# Delete\n",
    "print('---- Delete ----')\n",
    "session.delete(doctor_strange)  \n",
    "session.commit()  \n",
    "films = session.query(Film)  \n",
    "for film in films:\n",
    "    print(film.title, film.director)\n",
    "    \n",
    "# Disconnect\n",
    "db.dispose()"
   ]
  },
  {
   "cell_type": "markdown",
   "id": "f3862822",
   "metadata": {},
   "source": [
    "## Pandas\n",
    "\n",
    "Use pandas and other modules to analyze PostgreSQL data in Python. Including:\n",
    "- Write pandas dataframe into PostgreSQL\n",
    "- Read from PostgreSQL data to pandas DataFrame\n",
    "- Visualize PostgreSQL Data"
   ]
  },
  {
   "cell_type": "markdown",
   "id": "b7f04c9e",
   "metadata": {},
   "source": [
    "### Write pandas dataframe into PostgreSQL\n",
    "\n",
    "i.e. Create PostgreSQL Database from Pandas DataFrame<br>\n",
    "`DataFrame.to_sql(name, con, schema=None, if_exists=’fail’, index=True,index_label=None, chunksize=None, dtype=None, method=None)`"
   ]
  },
  {
   "cell_type": "code",
   "execution_count": 37,
   "id": "a6a68694",
   "metadata": {},
   "outputs": [
    {
     "name": "stdout",
     "output_type": "stream",
     "text": [
      "Before:  ['films']\n",
      "After:  ['films', 'gapminder']\n"
     ]
    }
   ],
   "source": [
    "import pandas\n",
    "from sqlalchemy import create_engine, inspect\n",
    "\n",
    "\n",
    "pgsql = { 'hostname': 'localhost',\n",
    "            'database' : 'sqlalchemy_test',\n",
    "            'username' : 'i52',\n",
    "            'pwd' : '',\n",
    "            'port_id' : 5432\n",
    "        }\n",
    "\n",
    "db_string = \"postgresql://{username}:{pwd}@{hostname}:{port_id}/{database}\".format(**pgsql)\n",
    "\n",
    "db = create_engine(db_string)\n",
    "\n",
    "db.execute(\"DROP TABLE IF EXISTS gapminder\")\n",
    "print('Before: ', inspect(db).get_table_names())\n",
    "\n",
    "# read csv data from url and store the resultset in a DataFrame.\n",
    "data_frame = pandas.read_csv(\"https://raw.githubusercontent.com/kirenz/datasets/master/gapminder.csv\")\n",
    "\n",
    "# use db to write the pandas data into PostgreSQL database and call the table 'gapminder'\n",
    "data_frame.to_sql('gapminder', db, if_exists='replace')\n",
    "\n",
    "# check table exist\n",
    "print('After: ', inspect(db).get_table_names())\n",
    "\n",
    "db.dispose()"
   ]
  },
  {
   "cell_type": "markdown",
   "id": "db651812",
   "metadata": {},
   "source": [
    "### Read from PostgreSQL data to pandas DataFrame\n",
    "\n",
    "Data from a PostgreSQL table can be read and loaded into a pandas DataFrame by calling the method `DataFrame.read_sql()` and passing the database connection obtained from the SQLAlchemy Engine as a parameter."
   ]
  },
  {
   "cell_type": "code",
   "execution_count": 38,
   "id": "1dd9c812",
   "metadata": {},
   "outputs": [
    {
     "name": "stdout",
     "output_type": "stream",
     "text": [
      "      index      country continent  year  lifeExp       pop   gdpPercap\n",
      "0         0  Afghanistan      Asia  1952   28.801   8425333  779.445314\n",
      "1         1  Afghanistan      Asia  1957   30.332   9240934  820.853030\n",
      "2         2  Afghanistan      Asia  1962   31.997  10267083  853.100710\n",
      "3         3  Afghanistan      Asia  1967   34.020  11537966  836.197138\n",
      "4         4  Afghanistan      Asia  1972   36.088  13079460  739.981106\n",
      "...     ...          ...       ...   ...      ...       ...         ...\n",
      "1699   1699     Zimbabwe    Africa  1987   62.351   9216418  706.157306\n",
      "1700   1700     Zimbabwe    Africa  1992   60.377  10704340  693.420786\n",
      "1701   1701     Zimbabwe    Africa  1997   46.809  11404948  792.449960\n",
      "1702   1702     Zimbabwe    Africa  2002   39.989  11926563  672.038623\n",
      "1703   1703     Zimbabwe    Africa  2007   43.487  12311143  469.709298\n",
      "\n",
      "[1704 rows x 7 columns]\n"
     ]
    }
   ],
   "source": [
    "import pandas\n",
    "from sqlalchemy import create_engine\n",
    "\n",
    "pgsql = { 'hostname': 'localhost',\n",
    "            'database' : 'sqlalchemy_test',\n",
    "            'username' : 'i52',\n",
    "            'pwd' : '',\n",
    "            'port_id' : 5432\n",
    "        }\n",
    "\n",
    "db_string = \"postgresql://{username}:{pwd}@{hostname}:{port_id}/{database}\".format(**pgsql)\n",
    "\n",
    "db = create_engine(db_string)\n",
    "\n",
    "# read data from db table and load into a DataFrame\n",
    "data_frame = pandas.read_sql(\"SELECT * FROM gapminder \", db);\n",
    "\n",
    "# set display format: If the width exceeds' display.width ', the output will not wrap across multiple 'pages'.\n",
    "pandas.set_option('display.expand_frame_repr', False);\n",
    "\n",
    "# print the DataFrame\n",
    "print(data_frame);\n",
    "\n",
    "db.dispose()"
   ]
  },
  {
   "cell_type": "markdown",
   "id": "058056b4",
   "metadata": {},
   "source": [
    "### Visualize PostgreSQL Data\n",
    "\n",
    "Read PostgreSQL data using `read_sql()`, then use `matplotlib` to visualize data."
   ]
  },
  {
   "cell_type": "code",
   "execution_count": 39,
   "id": "5cc8498b",
   "metadata": {},
   "outputs": [
    {
     "data": {
      "image/png": "[encoded data removed]",
      "text/plain": [
       "<Figure size 432x288 with 1 Axes>"
      ]
     },
     "metadata": {
      "needs_background": "light"
     },
     "output_type": "display_data"
    }
   ],
   "source": [
    "import pandas\n",
    "import matplotlib.pyplot as plt\n",
    "from sqlalchemy import create_engine\n",
    "\n",
    "\n",
    "pgsql = { 'hostname': 'localhost',\n",
    "            'database' : 'mydb',\n",
    "            'username' : 'i52',\n",
    "            'pwd' : '',\n",
    "            'port_id' : 5432\n",
    "        }\n",
    "\n",
    "db_string = \"postgresql://{username}:{pwd}@{hostname}:{port_id}/{database}\".format(**pgsql)\n",
    "\n",
    "db = create_engine(db_string)\n",
    "\n",
    "# execute SQL statement and store the resultset in a DataFrame.\n",
    "data_frame = pandas.read_sql(\"SELECT name, salary FROM employee\", db)\n",
    "\n",
    "# build a chart to display data. show() will display the chart in a new window.\n",
    "data_frame.plot(kind=\"bar\", x=\"name\", y=\"salary\")\n",
    "plt.show()\n",
    "\n",
    "db.dispose()"
   ]
  }
 ],
 "metadata": {
  "kernelspec": {
   "display_name": "Python 3.9.13 64-bit",
   "language": "python",
   "name": "python3"
  },
  "language_info": {
   "codemirror_mode": {
    "name": "ipython",
    "version": 3
   },
   "file_extension": ".py",
   "mimetype": "text/x-python",
   "name": "python",
   "nbconvert_exporter": "python",
   "pygments_lexer": "ipython3",
   "version": "3.9.13"
  },
  "vscode": {
   "interpreter": {
    "hash": "aee8b7b246df8f9039afb4144a1f6fd8d2ca17a180786b69acc140d282b71a49"
   }
  }
 },
 "nbformat": 4,
 "nbformat_minor": 5
}
